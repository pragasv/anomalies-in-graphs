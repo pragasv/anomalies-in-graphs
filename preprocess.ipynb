{
 "cells": [
  {
   "cell_type": "code",
   "execution_count": 2,
   "metadata": {},
   "outputs": [],
   "source": [
    "import pandas as pd\n",
    "from sklearn.neighbors import kneighbors_graph\n",
    "\n",
    "import random\n",
    "import numpy as np \n",
    "\n",
    "import networkx as nx\n",
    "import matplotlib.pyplot as plt\n",
    "\n",
    "import math \n",
    "from tqdm.notebook import tqdm\n",
    "\n",
    "import sklearn.metrics as metrics\n"
   ]
  },
  {
   "cell_type": "code",
   "execution_count": 3,
   "metadata": {},
   "outputs": [],
   "source": [
    "# Dataset_Name: arsenic_nov2001.txt\n",
    "# 20,043 arsenic samples from potable ground water,\n",
    "# retrieved from the USGS National Water Information System in 2001\n",
    "#\n",
    "# This dataset is a product of the U.S. Geological Survey's\n",
    "# National Water-Quality Assessment (NAWQA) program.\n",
    "#\n",
    "# Data_Format: TAB-delimited ASCII text\n",
    "# World_Wide_Web_URL: http://water.usgs.gov/nawqa/trace/data/arsenic_nov2001.txt\n",
    "#\n",
    "# Citation:\n",
    "#   Updated from:\n",
    "#   Focazio, M.J., Welch, A.H., Watkins, S.A., Helsel, D.R., and Horn, M.A.,\n",
    "#   1999, A retrospective analysis on the occurrence of arsenic in ground-\n",
    "#   water resources of the United States and limitations in drinking-water-\n",
    "#   supply characterizations: U.S. Geological Survey Water-Resources\n",
    "#   Investigations Report 99-4279, 21 p. \n",
    "#\n",
    "# Spatial_Domain: USA, including Alaska, Hawaii, and Puerto Rico\n",
    "# Time_Period_of_Content: 1973-2001 (most recent sample for each well)\n",
    "# Point_of_Contact: Email_Address: traceweb@usgs.gov\n",
    "#\n",
    "# Abstract:\n",
    "#   This dataset is intended to represent the potable ground-water resource.\n",
    "#   This dataset therefore does not include thermal and saline water\n",
    "#   (temperature greater than 50 degrees C or dissolved solids greater than\n",
    "#   3000 mg/L or specific conductance greater than 4000 uS/cm).  In addition,\n",
    "#   this dataset includes only the most recent arsenic analysis available\n",
    "#   for each well, and only analyses performed by hydride generation or ICP/MS.\n",
    "#\n",
    "# Basic documentation of dataset elements:\n",
    "# STAID:    USGS station identifier, based on latitude and longitude\n",
    "#           (each well in the National Water Information System\n",
    "#           has an unique USGS station identifier)\n",
    "# STATE:    Two-letter postal code for the U.S. state in which the sample\n",
    "#           was collected.\n",
    "# FIPS:     Federal Information Processing Standard state and county codes\n",
    "#           (see http://www.itl.nist.gov/fipspubs/fip6-4.htm )\n",
    "# LAT_DMS:  Latitude of well, in degrees, minutes, and seconds\n",
    "# LONG_DMS: Longitude of well, in degrees, minutes, and seconds\n",
    "# WELLDPTH: Depth (below land surface) of finished well (may be\n",
    "#           less than total hole depth drilled) (feet)\n",
    "# SAMPDATE: Date water sample was collected\n",
    "# SAMPTIME: Time water sample was collected\n",
    "# AS_RMRK:  Remark code qualifying the analytical result in AS_CONC.\n",
    "#           For example, the combination of AS_RMRK=\"<\" and AS_CONC=\"1\"\n",
    "#           indicates that arsenic was not detectable at a laboratory\n",
    "#           reporting limit of 1 microgram per liter.\n",
    "# AS_CONC:  Concentration of arsenic in sample, in micrograms per liter\n",
    "#           (ug/L) as arsenic\n",
    "# LAT_DD:   Latitude of well, in decimal degrees\n",
    "# LON_DD:   Longitude of well, in decimal degrees\n",
    "#\n",
    "# --------------------------------------------------------------------------\n",
    "#   Metadata_Date:    24NOV2001 (Modifed 20FEB2007)\n",
    "#   Metadata_Contact: traceweb@usgs.gov\n",
    "# --------------------------------------------------------------------------\n",
    "#"
   ]
  },
  {
   "cell_type": "code",
   "execution_count": 4,
   "metadata": {},
   "outputs": [],
   "source": [
    "df = pd.read_csv('/Users/praga/Library/CloudStorage/OneDrive-UniversityofMiami/Research ideas/anomalies in graphs/arsenic_nov2001.txt', delimiter = \"\\t\")"
   ]
  },
  {
   "cell_type": "code",
   "execution_count": 5,
   "metadata": {},
   "outputs": [],
   "source": [
    "df = df.drop([0])"
   ]
  },
  {
   "cell_type": "code",
   "execution_count": 6,
   "metadata": {},
   "outputs": [
    {
     "data": {
      "text/html": [
       "<div>\n",
       "<style scoped>\n",
       "    .dataframe tbody tr th:only-of-type {\n",
       "        vertical-align: middle;\n",
       "    }\n",
       "\n",
       "    .dataframe tbody tr th {\n",
       "        vertical-align: top;\n",
       "    }\n",
       "\n",
       "    .dataframe thead th {\n",
       "        text-align: right;\n",
       "    }\n",
       "</style>\n",
       "<table border=\"1\" class=\"dataframe\">\n",
       "  <thead>\n",
       "    <tr style=\"text-align: right;\">\n",
       "      <th></th>\n",
       "      <th>STAID</th>\n",
       "      <th>STATE</th>\n",
       "      <th>FIPS</th>\n",
       "      <th>LAT_DMS</th>\n",
       "      <th>LON_DMS</th>\n",
       "      <th>WELLDPTH</th>\n",
       "      <th>SAMPDATE</th>\n",
       "      <th>SAMPTIME</th>\n",
       "      <th>AS_RMRK</th>\n",
       "      <th>AS_CONC</th>\n",
       "      <th>LAT_DD</th>\n",
       "      <th>LON_DD</th>\n",
       "    </tr>\n",
       "  </thead>\n",
       "  <tbody>\n",
       "    <tr>\n",
       "      <th>1</th>\n",
       "      <td>182113064451900</td>\n",
       "      <td>VI</td>\n",
       "      <td>78020.0</td>\n",
       "      <td>182113.0</td>\n",
       "      <td>644519.0</td>\n",
       "      <td>100.0</td>\n",
       "      <td>31-Aug-92</td>\n",
       "      <td>1020</td>\n",
       "      <td>&lt;</td>\n",
       "      <td>1.0</td>\n",
       "      <td>18.35361</td>\n",
       "      <td>64.75528</td>\n",
       "    </tr>\n",
       "    <tr>\n",
       "      <th>2</th>\n",
       "      <td>182109064460300</td>\n",
       "      <td>VI</td>\n",
       "      <td>78020.0</td>\n",
       "      <td>182109.0</td>\n",
       "      <td>644603.0</td>\n",
       "      <td>60.0</td>\n",
       "      <td>26-Aug-92</td>\n",
       "      <td>1130</td>\n",
       "      <td>&lt;</td>\n",
       "      <td>1.0</td>\n",
       "      <td>18.35250</td>\n",
       "      <td>64.76750</td>\n",
       "    </tr>\n",
       "    <tr>\n",
       "      <th>3</th>\n",
       "      <td>180859065474100</td>\n",
       "      <td>PR</td>\n",
       "      <td>72069.0</td>\n",
       "      <td>180859.0</td>\n",
       "      <td>654741.0</td>\n",
       "      <td>NaN</td>\n",
       "      <td>07-Jul-82</td>\n",
       "      <td>940</td>\n",
       "      <td>&lt;</td>\n",
       "      <td>1.0</td>\n",
       "      <td>18.14972</td>\n",
       "      <td>65.79472</td>\n",
       "    </tr>\n",
       "    <tr>\n",
       "      <th>4</th>\n",
       "      <td>180339065523300</td>\n",
       "      <td>PR</td>\n",
       "      <td>72151.0</td>\n",
       "      <td>180339.0</td>\n",
       "      <td>655233.0</td>\n",
       "      <td>120.0</td>\n",
       "      <td>07-Jul-82</td>\n",
       "      <td>1645</td>\n",
       "      <td>&lt;</td>\n",
       "      <td>1.0</td>\n",
       "      <td>18.06083</td>\n",
       "      <td>65.87583</td>\n",
       "    </tr>\n",
       "    <tr>\n",
       "      <th>5</th>\n",
       "      <td>175836066021400</td>\n",
       "      <td>PR</td>\n",
       "      <td>72015.0</td>\n",
       "      <td>175836.0</td>\n",
       "      <td>660214.0</td>\n",
       "      <td>NaN</td>\n",
       "      <td>12-Aug-86</td>\n",
       "      <td>1545</td>\n",
       "      <td>&lt;</td>\n",
       "      <td>1.0</td>\n",
       "      <td>17.97667</td>\n",
       "      <td>66.03722</td>\n",
       "    </tr>\n",
       "  </tbody>\n",
       "</table>\n",
       "</div>"
      ],
      "text/plain": [
       "             STAID STATE     FIPS  LAT_DMS    LON_DMS  WELLDPTH    SAMPDATE   \\\n",
       "1  182113064451900    VI  78020.0  182113.0  644519.0       100.0  31-Aug-92   \n",
       "2  182109064460300    VI  78020.0  182109.0  644603.0        60.0  26-Aug-92   \n",
       "3  180859065474100    PR  72069.0  180859.0  654741.0         NaN  07-Jul-82   \n",
       "4  180339065523300    PR  72151.0  180339.0  655233.0       120.0  07-Jul-82   \n",
       "5  175836066021400    PR  72015.0  175836.0  660214.0         NaN  12-Aug-86   \n",
       "\n",
       "  SAMPTIME AS_RMRK  AS_CONC    LAT_DD    LON_DD  \n",
       "1     1020       <      1.0  18.35361  64.75528  \n",
       "2     1130       <      1.0  18.35250  64.76750  \n",
       "3      940       <      1.0  18.14972  65.79472  \n",
       "4     1645       <      1.0  18.06083  65.87583  \n",
       "5     1545       <      1.0  17.97667  66.03722  "
      ]
     },
     "execution_count": 6,
     "metadata": {},
     "output_type": "execute_result"
    }
   ],
   "source": [
    "df.head()"
   ]
  },
  {
   "cell_type": "code",
   "execution_count": 7,
   "metadata": {},
   "outputs": [
    {
     "data": {
      "text/plain": [
       "Index(['STAID', 'STATE', 'FIPS', 'LAT_DMS ', ' LON_DMS', 'WELLDPTH  ',\n",
       "       'SAMPDATE ', 'SAMPTIME', 'AS_RMRK', 'AS_CONC', 'LAT_DD', 'LON_DD'],\n",
       "      dtype='object')"
      ]
     },
     "execution_count": 7,
     "metadata": {},
     "output_type": "execute_result"
    }
   ],
   "source": [
    "df.columns"
   ]
  },
  {
   "cell_type": "code",
   "execution_count": 8,
   "metadata": {},
   "outputs": [
    {
     "data": {
      "text/plain": [
       "1        31-Aug-92\n",
       "2        26-Aug-92\n",
       "3        07-Jul-82\n",
       "4        07-Jul-82\n",
       "5        12-Aug-86\n",
       "           ...    \n",
       "20039    27-Jun-79\n",
       "20040    27-Jun-79\n",
       "20041    28-Jun-79\n",
       "20042    28-Jun-79\n",
       "20043    05-Jun-79\n",
       "Name: SAMPDATE , Length: 20043, dtype: object"
      ]
     },
     "execution_count": 8,
     "metadata": {},
     "output_type": "execute_result"
    }
   ],
   "source": [
    "df['SAMPDATE ']"
   ]
  },
  {
   "cell_type": "code",
   "execution_count": 9,
   "metadata": {},
   "outputs": [],
   "source": [
    "df_org = df.dropna()"
   ]
  },
  {
   "cell_type": "code",
   "execution_count": 10,
   "metadata": {},
   "outputs": [],
   "source": [
    "df_org_idaho = df_org[df_org.STATE == 'ID']  #select only wells from idaho\n",
    "\n",
    "unique_st_id = df_org_idaho.STAID.unique()\n",
    "len(unique_st_id)\n",
    "\n",
    "sub_sample_id_count = 219\n",
    "selected_st_ids = random.sample(sorted(unique_st_id), sub_sample_id_count)\n",
    "\n",
    "df = df_org_idaho[df_org_idaho['STAID'].isin(selected_st_ids)]"
   ]
  },
  {
   "cell_type": "code",
   "execution_count": 11,
   "metadata": {},
   "outputs": [
    {
     "data": {
      "text/html": [
       "<div>\n",
       "<style scoped>\n",
       "    .dataframe tbody tr th:only-of-type {\n",
       "        vertical-align: middle;\n",
       "    }\n",
       "\n",
       "    .dataframe tbody tr th {\n",
       "        vertical-align: top;\n",
       "    }\n",
       "\n",
       "    .dataframe thead th {\n",
       "        text-align: right;\n",
       "    }\n",
       "</style>\n",
       "<table border=\"1\" class=\"dataframe\">\n",
       "  <thead>\n",
       "    <tr style=\"text-align: right;\">\n",
       "      <th></th>\n",
       "      <th>STAID</th>\n",
       "      <th>STATE</th>\n",
       "      <th>FIPS</th>\n",
       "      <th>LAT_DMS</th>\n",
       "      <th>LON_DMS</th>\n",
       "      <th>WELLDPTH</th>\n",
       "      <th>SAMPDATE</th>\n",
       "      <th>SAMPTIME</th>\n",
       "      <th>AS_RMRK</th>\n",
       "      <th>AS_CONC</th>\n",
       "      <th>LAT_DD</th>\n",
       "      <th>LON_DD</th>\n",
       "    </tr>\n",
       "  </thead>\n",
       "  <tbody>\n",
       "    <tr>\n",
       "      <th>12467</th>\n",
       "      <td>420834111073701</td>\n",
       "      <td>ID</td>\n",
       "      <td>16007.0</td>\n",
       "      <td>420834.0</td>\n",
       "      <td>1110737.0</td>\n",
       "      <td>38.0</td>\n",
       "      <td>17-Aug-96</td>\n",
       "      <td>1625</td>\n",
       "      <td>&lt;</td>\n",
       "      <td>1.0</td>\n",
       "      <td>42.14278</td>\n",
       "      <td>111.12695</td>\n",
       "    </tr>\n",
       "    <tr>\n",
       "      <th>12509</th>\n",
       "      <td>434410111150001</td>\n",
       "      <td>ID</td>\n",
       "      <td>16081.0</td>\n",
       "      <td>434410.0</td>\n",
       "      <td>1111500.0</td>\n",
       "      <td>180.0</td>\n",
       "      <td>09-Aug-96</td>\n",
       "      <td>1320</td>\n",
       "      <td>&lt;</td>\n",
       "      <td>1.0</td>\n",
       "      <td>43.73611</td>\n",
       "      <td>111.25000</td>\n",
       "    </tr>\n",
       "    <tr>\n",
       "      <th>12518</th>\n",
       "      <td>421246111162901</td>\n",
       "      <td>ID</td>\n",
       "      <td>16007.0</td>\n",
       "      <td>421246.0</td>\n",
       "      <td>1111629.0</td>\n",
       "      <td>40.0</td>\n",
       "      <td>14-Aug-93</td>\n",
       "      <td>1600</td>\n",
       "      <td>&lt;</td>\n",
       "      <td>1.0</td>\n",
       "      <td>42.21278</td>\n",
       "      <td>111.27472</td>\n",
       "    </tr>\n",
       "    <tr>\n",
       "      <th>12725</th>\n",
       "      <td>440853111353601</td>\n",
       "      <td>ID</td>\n",
       "      <td>16043.0</td>\n",
       "      <td>440853.0</td>\n",
       "      <td>1113536.0</td>\n",
       "      <td>175.0</td>\n",
       "      <td>05-Aug-96</td>\n",
       "      <td>1215</td>\n",
       "      <td>&lt;</td>\n",
       "      <td>1.0</td>\n",
       "      <td>44.14805</td>\n",
       "      <td>111.59333</td>\n",
       "    </tr>\n",
       "    <tr>\n",
       "      <th>12746</th>\n",
       "      <td>423848111372801</td>\n",
       "      <td>ID</td>\n",
       "      <td>16029.0</td>\n",
       "      <td>423848.0</td>\n",
       "      <td>1113728.0</td>\n",
       "      <td>77.0</td>\n",
       "      <td>27-Jun-96</td>\n",
       "      <td>1700</td>\n",
       "      <td>.</td>\n",
       "      <td>2.0</td>\n",
       "      <td>42.64667</td>\n",
       "      <td>111.62444</td>\n",
       "    </tr>\n",
       "  </tbody>\n",
       "</table>\n",
       "</div>"
      ],
      "text/plain": [
       "                 STAID STATE     FIPS  LAT_DMS     LON_DMS  WELLDPTH    \\\n",
       "12467  420834111073701    ID  16007.0  420834.0  1110737.0        38.0   \n",
       "12509  434410111150001    ID  16081.0  434410.0  1111500.0       180.0   \n",
       "12518  421246111162901    ID  16007.0  421246.0  1111629.0        40.0   \n",
       "12725  440853111353601    ID  16043.0  440853.0  1113536.0       175.0   \n",
       "12746  423848111372801    ID  16029.0  423848.0  1113728.0        77.0   \n",
       "\n",
       "       SAMPDATE  SAMPTIME AS_RMRK  AS_CONC    LAT_DD     LON_DD  \n",
       "12467  17-Aug-96     1625       <      1.0  42.14278  111.12695  \n",
       "12509  09-Aug-96     1320       <      1.0  43.73611  111.25000  \n",
       "12518  14-Aug-93     1600       <      1.0  42.21278  111.27472  \n",
       "12725  05-Aug-96     1215       <      1.0  44.14805  111.59333  \n",
       "12746  27-Jun-96     1700       .      2.0  42.64667  111.62444  "
      ]
     },
     "execution_count": 11,
     "metadata": {},
     "output_type": "execute_result"
    }
   ],
   "source": [
    "df.head()"
   ]
  },
  {
   "cell_type": "code",
   "execution_count": 12,
   "metadata": {},
   "outputs": [
    {
     "data": {
      "text/plain": [
       "ID    1935\n",
       "CA    1816\n",
       "NJ    1328\n",
       "WA     980\n",
       "AZ     613\n",
       "CO     528\n",
       "NV     504\n",
       "TX     443\n",
       "FL     414\n",
       "MD     384\n",
       "PA     358\n",
       "NM     344\n",
       "NE     341\n",
       "TN     341\n",
       "SD     333\n",
       "LA     287\n",
       "OK     272\n",
       "MO     250\n",
       "WI     243\n",
       "UT     234\n",
       "IN     233\n",
       "OH     229\n",
       "NH     225\n",
       "CT     188\n",
       "OR     181\n",
       "ND     176\n",
       "MI     175\n",
       "MA     164\n",
       "AK     153\n",
       "KS     148\n",
       "MT     148\n",
       "WV     138\n",
       "AL     130\n",
       "AR     117\n",
       "DE     110\n",
       "WY     106\n",
       "IA      89\n",
       "NC      87\n",
       "IL      86\n",
       "VA      78\n",
       "MN      77\n",
       "GA      77\n",
       "MS      41\n",
       "NY      36\n",
       "PR      31\n",
       "SC      24\n",
       "ME      23\n",
       "KY      15\n",
       "RI       5\n",
       "VT       4\n",
       "VI       2\n",
       "Name: STATE, dtype: int64"
      ]
     },
     "execution_count": 12,
     "metadata": {},
     "output_type": "execute_result"
    }
   ],
   "source": [
    "df_org.STATE.value_counts()"
   ]
  },
  {
   "cell_type": "code",
   "execution_count": 13,
   "metadata": {},
   "outputs": [
    {
     "data": {
      "text/plain": [
       "(219, 12)"
      ]
     },
     "execution_count": 13,
     "metadata": {},
     "output_type": "execute_result"
    }
   ],
   "source": [
    "df.shape"
   ]
  },
  {
   "cell_type": "code",
   "execution_count": 14,
   "metadata": {},
   "outputs": [
    {
     "data": {
      "text/html": [
       "<div>\n",
       "<style scoped>\n",
       "    .dataframe tbody tr th:only-of-type {\n",
       "        vertical-align: middle;\n",
       "    }\n",
       "\n",
       "    .dataframe tbody tr th {\n",
       "        vertical-align: top;\n",
       "    }\n",
       "\n",
       "    .dataframe thead th {\n",
       "        text-align: right;\n",
       "    }\n",
       "</style>\n",
       "<table border=\"1\" class=\"dataframe\">\n",
       "  <thead>\n",
       "    <tr style=\"text-align: right;\">\n",
       "      <th></th>\n",
       "      <th>STAID</th>\n",
       "      <th>STATE</th>\n",
       "      <th>FIPS</th>\n",
       "      <th>LAT_DMS</th>\n",
       "      <th>LON_DMS</th>\n",
       "      <th>WELLDPTH</th>\n",
       "      <th>SAMPDATE</th>\n",
       "      <th>SAMPTIME</th>\n",
       "      <th>AS_RMRK</th>\n",
       "      <th>AS_CONC</th>\n",
       "      <th>LAT_DD</th>\n",
       "      <th>LON_DD</th>\n",
       "    </tr>\n",
       "  </thead>\n",
       "  <tbody>\n",
       "    <tr>\n",
       "      <th>15290</th>\n",
       "      <td>433704116142601</td>\n",
       "      <td>ID</td>\n",
       "      <td>16001.0</td>\n",
       "      <td>433704.0</td>\n",
       "      <td>1161426.0</td>\n",
       "      <td>670.0</td>\n",
       "      <td>20-Oct-93</td>\n",
       "      <td>950</td>\n",
       "      <td>&lt;</td>\n",
       "      <td>1.0</td>\n",
       "      <td>43.61777</td>\n",
       "      <td>116.24055</td>\n",
       "    </tr>\n",
       "  </tbody>\n",
       "</table>\n",
       "</div>"
      ],
      "text/plain": [
       "                 STAID STATE     FIPS  LAT_DMS     LON_DMS  WELLDPTH    \\\n",
       "15290  433704116142601    ID  16001.0  433704.0  1161426.0       670.0   \n",
       "\n",
       "       SAMPDATE  SAMPTIME AS_RMRK  AS_CONC    LAT_DD     LON_DD  \n",
       "15290  20-Oct-93      950       <      1.0  43.61777  116.24055  "
      ]
     },
     "execution_count": 14,
     "metadata": {},
     "output_type": "execute_result"
    }
   ],
   "source": [
    "df[df.STAID==selected_st_ids[5]]"
   ]
  },
  {
   "cell_type": "code",
   "execution_count": 15,
   "metadata": {},
   "outputs": [
    {
     "data": {
      "text/plain": [
       ".    166\n",
       "<     44\n",
       "-      9\n",
       "Name: AS_RMRK, dtype: int64"
      ]
     },
     "execution_count": 15,
     "metadata": {},
     "output_type": "execute_result"
    }
   ],
   "source": [
    "### convert the AS_RMRK column \n",
    "\n",
    "df.AS_RMRK.value_counts()"
   ]
  },
  {
   "cell_type": "code",
   "execution_count": 16,
   "metadata": {},
   "outputs": [],
   "source": [
    "df = df.replace({\"<\":0, \".\":1, \"-\":2})"
   ]
  },
  {
   "cell_type": "markdown",
   "metadata": {},
   "source": [
    "### generate KNN graph "
   ]
  },
  {
   "cell_type": "code",
   "execution_count": 17,
   "metadata": {},
   "outputs": [
    {
     "data": {
      "text/html": [
       "<div>\n",
       "<style scoped>\n",
       "    .dataframe tbody tr th:only-of-type {\n",
       "        vertical-align: middle;\n",
       "    }\n",
       "\n",
       "    .dataframe tbody tr th {\n",
       "        vertical-align: top;\n",
       "    }\n",
       "\n",
       "    .dataframe thead th {\n",
       "        text-align: right;\n",
       "    }\n",
       "</style>\n",
       "<table border=\"1\" class=\"dataframe\">\n",
       "  <thead>\n",
       "    <tr style=\"text-align: right;\">\n",
       "      <th></th>\n",
       "      <th>STAID</th>\n",
       "      <th>STATE</th>\n",
       "      <th>FIPS</th>\n",
       "      <th>LAT_DMS</th>\n",
       "      <th>LON_DMS</th>\n",
       "      <th>WELLDPTH</th>\n",
       "      <th>SAMPDATE</th>\n",
       "      <th>SAMPTIME</th>\n",
       "      <th>AS_RMRK</th>\n",
       "      <th>AS_CONC</th>\n",
       "      <th>LAT_DD</th>\n",
       "      <th>LON_DD</th>\n",
       "    </tr>\n",
       "  </thead>\n",
       "  <tbody>\n",
       "    <tr>\n",
       "      <th>12467</th>\n",
       "      <td>420834111073701</td>\n",
       "      <td>ID</td>\n",
       "      <td>16007.0</td>\n",
       "      <td>420834.0</td>\n",
       "      <td>1110737.0</td>\n",
       "      <td>38.0</td>\n",
       "      <td>17-Aug-96</td>\n",
       "      <td>1625</td>\n",
       "      <td>0</td>\n",
       "      <td>1.0</td>\n",
       "      <td>42.14278</td>\n",
       "      <td>111.12695</td>\n",
       "    </tr>\n",
       "    <tr>\n",
       "      <th>12509</th>\n",
       "      <td>434410111150001</td>\n",
       "      <td>ID</td>\n",
       "      <td>16081.0</td>\n",
       "      <td>434410.0</td>\n",
       "      <td>1111500.0</td>\n",
       "      <td>180.0</td>\n",
       "      <td>09-Aug-96</td>\n",
       "      <td>1320</td>\n",
       "      <td>0</td>\n",
       "      <td>1.0</td>\n",
       "      <td>43.73611</td>\n",
       "      <td>111.25000</td>\n",
       "    </tr>\n",
       "    <tr>\n",
       "      <th>12518</th>\n",
       "      <td>421246111162901</td>\n",
       "      <td>ID</td>\n",
       "      <td>16007.0</td>\n",
       "      <td>421246.0</td>\n",
       "      <td>1111629.0</td>\n",
       "      <td>40.0</td>\n",
       "      <td>14-Aug-93</td>\n",
       "      <td>1600</td>\n",
       "      <td>0</td>\n",
       "      <td>1.0</td>\n",
       "      <td>42.21278</td>\n",
       "      <td>111.27472</td>\n",
       "    </tr>\n",
       "    <tr>\n",
       "      <th>12725</th>\n",
       "      <td>440853111353601</td>\n",
       "      <td>ID</td>\n",
       "      <td>16043.0</td>\n",
       "      <td>440853.0</td>\n",
       "      <td>1113536.0</td>\n",
       "      <td>175.0</td>\n",
       "      <td>05-Aug-96</td>\n",
       "      <td>1215</td>\n",
       "      <td>0</td>\n",
       "      <td>1.0</td>\n",
       "      <td>44.14805</td>\n",
       "      <td>111.59333</td>\n",
       "    </tr>\n",
       "    <tr>\n",
       "      <th>12746</th>\n",
       "      <td>423848111372801</td>\n",
       "      <td>ID</td>\n",
       "      <td>16029.0</td>\n",
       "      <td>423848.0</td>\n",
       "      <td>1113728.0</td>\n",
       "      <td>77.0</td>\n",
       "      <td>27-Jun-96</td>\n",
       "      <td>1700</td>\n",
       "      <td>1</td>\n",
       "      <td>2.0</td>\n",
       "      <td>42.64667</td>\n",
       "      <td>111.62444</td>\n",
       "    </tr>\n",
       "  </tbody>\n",
       "</table>\n",
       "</div>"
      ],
      "text/plain": [
       "                 STAID STATE     FIPS  LAT_DMS     LON_DMS  WELLDPTH    \\\n",
       "12467  420834111073701    ID  16007.0  420834.0  1110737.0        38.0   \n",
       "12509  434410111150001    ID  16081.0  434410.0  1111500.0       180.0   \n",
       "12518  421246111162901    ID  16007.0  421246.0  1111629.0        40.0   \n",
       "12725  440853111353601    ID  16043.0  440853.0  1113536.0       175.0   \n",
       "12746  423848111372801    ID  16029.0  423848.0  1113728.0        77.0   \n",
       "\n",
       "       SAMPDATE  SAMPTIME  AS_RMRK  AS_CONC    LAT_DD     LON_DD  \n",
       "12467  17-Aug-96     1625        0      1.0  42.14278  111.12695  \n",
       "12509  09-Aug-96     1320        0      1.0  43.73611  111.25000  \n",
       "12518  14-Aug-93     1600        0      1.0  42.21278  111.27472  \n",
       "12725  05-Aug-96     1215        0      1.0  44.14805  111.59333  \n",
       "12746  27-Jun-96     1700        1      2.0  42.64667  111.62444  "
      ]
     },
     "execution_count": 17,
     "metadata": {},
     "output_type": "execute_result"
    }
   ],
   "source": [
    "df.head()"
   ]
  },
  {
   "cell_type": "code",
   "execution_count": 18,
   "metadata": {},
   "outputs": [
    {
     "data": {
      "text/plain": [
       "STAID          object\n",
       "STATE          object\n",
       "FIPS          float64\n",
       "LAT_DMS       float64\n",
       " LON_DMS      float64\n",
       "WELLDPTH      float64\n",
       "SAMPDATE       object\n",
       "SAMPTIME       object\n",
       "AS_RMRK         int64\n",
       "AS_CONC       float64\n",
       "LAT_DD        float64\n",
       "LON_DD        float64\n",
       "dtype: object"
      ]
     },
     "execution_count": 18,
     "metadata": {},
     "output_type": "execute_result"
    }
   ],
   "source": [
    "df.dtypes"
   ]
  },
  {
   "cell_type": "code",
   "execution_count": 19,
   "metadata": {},
   "outputs": [],
   "source": [
    "df = df.drop(['STATE', 'SAMPDATE ', 'SAMPTIME'], axis=1)"
   ]
  },
  {
   "cell_type": "code",
   "execution_count": 20,
   "metadata": {},
   "outputs": [
    {
     "data": {
      "text/plain": [
       "(219, 1)"
      ]
     },
     "execution_count": 20,
     "metadata": {},
     "output_type": "execute_result"
    }
   ],
   "source": [
    "Y = df['AS_CONC'].to_numpy()\n",
    "Y = Y.reshape(-1,1)\n",
    "Y.shape"
   ]
  },
  {
   "cell_type": "code",
   "execution_count": 21,
   "metadata": {},
   "outputs": [
    {
     "data": {
      "text/plain": [
       "7.2465753424657535"
      ]
     },
     "execution_count": 21,
     "metadata": {},
     "output_type": "execute_result"
    }
   ],
   "source": [
    "df['AS_CONC'].mean()"
   ]
  },
  {
   "cell_type": "markdown",
   "metadata": {},
   "source": [
    "## select the data "
   ]
  },
  {
   "cell_type": "code",
   "execution_count": 22,
   "metadata": {},
   "outputs": [],
   "source": [
    "df_NN = df[['LAT_DD', 'LON_DD']]\n",
    "df_NN.head()\n",
    "\n",
    "# this is the part where we select the data process - select one of the following\n",
    "#df_y = df[['AS_CONC']]\n",
    "df_y = df_NN"
   ]
  },
  {
   "cell_type": "code",
   "execution_count": 23,
   "metadata": {},
   "outputs": [],
   "source": [
    "neighbour_count = 8\n",
    "\n",
    "Adj = kneighbors_graph(df_NN, neighbour_count,  mode='connectivity', include_self=False)\n",
    "\n",
    "## since kneighbors from scikit learn used a digraph we will always get non symmetric matrix, hence lets force it to and undirected case \n",
    "Adj = Adj + Adj.T\n",
    "Adj[Adj > 1] = 1"
   ]
  },
  {
   "cell_type": "code",
   "execution_count": 24,
   "metadata": {},
   "outputs": [
    {
     "data": {
      "text/plain": [
       "(219, 219)"
      ]
     },
     "execution_count": 24,
     "metadata": {},
     "output_type": "execute_result"
    }
   ],
   "source": [
    "Adj.toarray().shape"
   ]
  },
  {
   "cell_type": "code",
   "execution_count": 25,
   "metadata": {},
   "outputs": [],
   "source": [
    "W = Adj.toarray()"
   ]
  },
  {
   "cell_type": "code",
   "execution_count": 26,
   "metadata": {},
   "outputs": [
    {
     "data": {
      "text/plain": [
       "array([[0., 0., 1., ..., 0., 0., 0.],\n",
       "       [0., 0., 0., ..., 0., 0., 0.],\n",
       "       [1., 0., 0., ..., 0., 0., 0.],\n",
       "       ...,\n",
       "       [0., 0., 0., ..., 0., 0., 0.],\n",
       "       [0., 0., 0., ..., 0., 0., 1.],\n",
       "       [0., 0., 0., ..., 0., 1., 0.]])"
      ]
     },
     "execution_count": 26,
     "metadata": {},
     "output_type": "execute_result"
    }
   ],
   "source": [
    "W"
   ]
  },
  {
   "cell_type": "code",
   "execution_count": 27,
   "metadata": {},
   "outputs": [],
   "source": [
    "D = np.diagflat(Adj.sum(axis=1))"
   ]
  },
  {
   "cell_type": "code",
   "execution_count": 28,
   "metadata": {},
   "outputs": [
    {
     "data": {
      "text/plain": [
       "matrix([[8., 0., 0., ..., 0., 0., 0.],\n",
       "        [0., 8., 0., ..., 0., 0., 0.],\n",
       "        [0., 0., 8., ..., 0., 0., 0.],\n",
       "        ...,\n",
       "        [0., 0., 0., ..., 8., 0., 0.],\n",
       "        [0., 0., 0., ..., 0., 8., 0.],\n",
       "        [0., 0., 0., ..., 0., 0., 9.]])"
      ]
     },
     "execution_count": 28,
     "metadata": {},
     "output_type": "execute_result"
    }
   ],
   "source": [
    "D"
   ]
  },
  {
   "cell_type": "code",
   "execution_count": 29,
   "metadata": {},
   "outputs": [],
   "source": [
    "combinatorial_laplacian = D - Adj"
   ]
  },
  {
   "cell_type": "code",
   "execution_count": 30,
   "metadata": {},
   "outputs": [],
   "source": [
    "eig_val, eig_vec = np.linalg.eig(combinatorial_laplacian)\n",
    "\n",
    "idx = eig_val.argsort()[::1]   \n",
    "eig_val = eig_val[idx]\n",
    "eig_vec = eig_vec[:,idx]"
   ]
  },
  {
   "cell_type": "code",
   "execution_count": 31,
   "metadata": {},
   "outputs": [
    {
     "data": {
      "text/plain": [
       "True"
      ]
     },
     "execution_count": 31,
     "metadata": {},
     "output_type": "execute_result"
    }
   ],
   "source": [
    "(combinatorial_laplacian ==combinatorial_laplacian.T).all()"
   ]
  },
  {
   "cell_type": "code",
   "execution_count": 32,
   "metadata": {},
   "outputs": [
    {
     "data": {
      "text/plain": [
       "array([-2.10595430e-15,  1.42589165e-02,  8.13438258e-02,  1.18145290e-01,\n",
       "        1.60996707e-01,  2.69099537e-01,  3.33200386e-01,  7.70707318e-01,\n",
       "        8.12677274e-01,  9.42493613e-01,  1.02570792e+00,  1.21479899e+00,\n",
       "        1.53100698e+00,  1.90229545e+00,  2.22109997e+00,  2.91215249e+00,\n",
       "        2.98054883e+00,  3.80653712e+00,  3.95442705e+00,  4.04502443e+00,\n",
       "        4.41393438e+00,  4.62888218e+00,  4.67455448e+00,  5.08994511e+00,\n",
       "        5.82448059e+00,  5.94167544e+00,  6.03724537e+00,  6.32889233e+00,\n",
       "        6.39316777e+00,  6.45109266e+00,  6.88607240e+00,  7.23465936e+00,\n",
       "        7.23884159e+00,  7.38306564e+00,  7.59047292e+00,  7.75448006e+00,\n",
       "        7.96464626e+00,  8.03578584e+00,  8.10707101e+00,  8.15948191e+00,\n",
       "        8.28452202e+00,  8.29950557e+00,  8.33212979e+00,  8.33863961e+00,\n",
       "        8.39691776e+00,  8.49437193e+00,  8.51049634e+00,  8.60235558e+00,\n",
       "        8.66004860e+00,  8.66538268e+00,  8.70533848e+00,  8.76971789e+00,\n",
       "        8.81056224e+00,  8.86814925e+00,  8.88705924e+00,  8.91940545e+00,\n",
       "        9.00000000e+00,  9.00000000e+00,  9.00000000e+00,  9.00000000e+00,\n",
       "        9.00000000e+00,  9.00000000e+00,  9.00000000e+00,  9.00000000e+00,\n",
       "        9.00000000e+00,  9.00000000e+00,  9.00000000e+00,  9.00000000e+00,\n",
       "        9.00000000e+00,  9.00000000e+00,  9.02388859e+00,  9.06812807e+00,\n",
       "        9.10965965e+00,  9.14286030e+00,  9.18798172e+00,  9.21226910e+00,\n",
       "        9.21797483e+00,  9.28417396e+00,  9.31227790e+00,  9.38661230e+00,\n",
       "        9.41022083e+00,  9.44512873e+00,  9.58784947e+00,  9.61143029e+00,\n",
       "        9.61695752e+00,  9.67630539e+00,  9.84482005e+00,  9.85814928e+00,\n",
       "        9.90588992e+00,  9.94222135e+00,  1.00000000e+01,  1.00000000e+01,\n",
       "        1.00000000e+01,  1.00000000e+01,  1.00000000e+01,  1.00000000e+01,\n",
       "        1.00000000e+01,  1.00645174e+01,  1.01079668e+01,  1.01299765e+01,\n",
       "        1.01366691e+01,  1.01467581e+01,  1.01788634e+01,  1.02320611e+01,\n",
       "        1.02570805e+01,  1.03291054e+01,  1.04100459e+01,  1.04397146e+01,\n",
       "        1.04766784e+01,  1.05447815e+01,  1.05580308e+01,  1.06147741e+01,\n",
       "        1.06544225e+01,  1.07748048e+01,  1.08244604e+01,  1.08380887e+01,\n",
       "        1.08893695e+01,  1.09071840e+01,  1.09545584e+01,  1.09747891e+01,\n",
       "        1.10000000e+01,  1.10000000e+01,  1.10000000e+01,  1.10000000e+01,\n",
       "        1.10400116e+01,  1.10639722e+01,  1.10866083e+01,  1.11079732e+01,\n",
       "        1.11340985e+01,  1.12725836e+01,  1.13033336e+01,  1.13886083e+01,\n",
       "        1.13952447e+01,  1.14511438e+01,  1.14975636e+01,  1.15019983e+01,\n",
       "        1.15334594e+01,  1.15457026e+01,  1.16019454e+01,  1.16304775e+01,\n",
       "        1.16451427e+01,  1.18872388e+01,  1.18913956e+01,  1.19562173e+01,\n",
       "        1.19709112e+01,  1.20000000e+01,  1.20000000e+01,  1.20000000e+01,\n",
       "        1.20919817e+01,  1.21357560e+01,  1.21695454e+01,  1.22931576e+01,\n",
       "        1.23640264e+01,  1.23775437e+01,  1.25082000e+01,  1.25473764e+01,\n",
       "        1.25514120e+01,  1.25612323e+01,  1.26351351e+01,  1.26837325e+01,\n",
       "        1.27635648e+01,  1.27784810e+01,  1.28090360e+01,  1.29100641e+01,\n",
       "        1.29197659e+01,  1.30000000e+01,  1.30000000e+01,  1.30233201e+01,\n",
       "        1.30361821e+01,  1.30865873e+01,  1.30929487e+01,  1.31283646e+01,\n",
       "        1.31897812e+01,  1.32211950e+01,  1.33327835e+01,  1.34123504e+01,\n",
       "        1.35016024e+01,  1.35412954e+01,  1.36777466e+01,  1.36875767e+01,\n",
       "        1.37340534e+01,  1.37608322e+01,  1.37783888e+01,  1.38618305e+01,\n",
       "        1.40000000e+01,  1.40000000e+01,  1.41296436e+01,  1.41334469e+01,\n",
       "        1.41465193e+01,  1.43232316e+01,  1.43889768e+01,  1.45069398e+01,\n",
       "        1.45272535e+01,  1.46210270e+01,  1.50000000e+01,  1.50000000e+01,\n",
       "        1.50965653e+01,  1.51501012e+01,  1.52316489e+01,  1.52350824e+01,\n",
       "        1.52771027e+01,  1.53035936e+01,  1.53589383e+01,  1.54834267e+01,\n",
       "        1.55968497e+01,  1.56396092e+01,  1.56593799e+01,  1.57399751e+01,\n",
       "        1.61323091e+01,  1.62956897e+01,  1.63518115e+01,  1.64313192e+01,\n",
       "        1.65337996e+01,  1.69412023e+01,  1.70000000e+01,  1.70000000e+01,\n",
       "        1.73572809e+01,  1.74292059e+01,  1.78365182e+01])"
      ]
     },
     "execution_count": 32,
     "metadata": {},
     "output_type": "execute_result"
    }
   ],
   "source": [
    "eig_val"
   ]
  },
  {
   "cell_type": "code",
   "execution_count": 33,
   "metadata": {},
   "outputs": [],
   "source": [
    "U_transpose = eig_vec.T\n",
    "\n",
    "rho = eig_val[math.floor(sub_sample_id_count*0.05)] # smallest 96 eigen value "
   ]
  },
  {
   "cell_type": "code",
   "execution_count": 34,
   "metadata": {},
   "outputs": [
    {
     "data": {
      "text/plain": [
       "1.0257079182804452"
      ]
     },
     "execution_count": 34,
     "metadata": {},
     "output_type": "execute_result"
    }
   ],
   "source": [
    "rho"
   ]
  },
  {
   "cell_type": "code",
   "execution_count": 35,
   "metadata": {},
   "outputs": [
    {
     "data": {
      "image/png": "[encoded data removed]",
      "text/plain": [
       "<Figure size 432x288 with 1 Axes>"
      ]
     },
     "metadata": {},
     "output_type": "display_data"
    }
   ],
   "source": [
    "df_NN = df_NN.reset_index(drop=True)\n",
    "\n",
    "G = nx.Graph(Adj)\n",
    "cordinates = {node:(df.iloc[node].LON_DD, df.iloc[node].LAT_DD) for node in G.nodes}\n",
    "nx.draw(G, pos=cordinates, node_size=20)"
   ]
  },
  {
   "cell_type": "code",
   "execution_count": 36,
   "metadata": {},
   "outputs": [
    {
     "data": {
      "text/plain": [
       "True"
      ]
     },
     "execution_count": 36,
     "metadata": {},
     "output_type": "execute_result"
    }
   ],
   "source": [
    "nx.is_connected(G)"
   ]
  },
  {
   "cell_type": "markdown",
   "metadata": {},
   "source": [
    "## calculate Graph fourier scan statistic (GFSS)"
   ]
  },
  {
   "cell_type": "code",
   "execution_count": 37,
   "metadata": {},
   "outputs": [],
   "source": [
    "def h_function(lambda_value, rho): \n",
    "    return min(1, math.sqrt(abs(rho/lambda_value)))\n",
    "\n",
    "def critial_snr(lambda_value, rho):\n",
    "    return min(1, (abs(rho/lambda_value))**2)\n",
    "\n",
    "def H0_calc(lambda_value, rho, alpha = 0.2):\n",
    "    return min(1, (abs(rho/lambda_value))**2)*np.log(1/alpha)\n",
    "\n",
    "def H1_calc(lambda_value, rho, gamma = 0.2):\n",
    "    return min(1, (abs(rho/lambda_value))**2)*np.log(2/gamma)"
   ]
  },
  {
   "cell_type": "code",
   "execution_count": 38,
   "metadata": {},
   "outputs": [],
   "source": [
    "ALPHA = 0.1\n",
    "GAMMA = 0.3\n"
   ]
  },
  {
   "cell_type": "code",
   "execution_count": 39,
   "metadata": {},
   "outputs": [
    {
     "name": "stdout",
     "output_type": "stream",
     "text": [
      "The value of T_bar :  79.97751142862046\n",
      "H0 hypothesis significance :  16.041309394435523\n",
      "H1 hypothesis significance :  67.42426264182282\n"
     ]
    }
   ],
   "source": [
    "eig_val_intrest = eig_val[1:]\n",
    "eig_vector_intrest = eig_vec[:,1:]\n",
    "U_transpose_intrest = eig_vector_intrest.T\n",
    "\n",
    "G_total = 0\n",
    "att_bias = 0 \n",
    "H0_val, H1_val = 0,0\n",
    "SNR_critical = 0 \n",
    "\n",
    "for lambda_count in range(len(eig_val_intrest)):\n",
    "    lambda_value = eig_val_intrest[lambda_count]\n",
    "\n",
    "    G_val = (h_function(lambda_value, rho)*(eig_vector_intrest[:,lambda_count].T * Y).item()) * eig_vector_intrest[:,lambda_count]\n",
    "\n",
    "    att_bias += (h_function(lambda_value, rho))**2\n",
    "\n",
    "    G_total += G_val\n",
    "\n",
    "    ## corollary 6 : the GFSS (t_bar) can asymptotically distinguish H0 from H1 if the SNR is stronger than below\n",
    "    SNR_critical += critial_snr(lambda_value, rho)\n",
    "\n",
    "    H0_val += H0_calc(lambda_value, rho, alpha = ALPHA)\n",
    "    H1_val += H1_calc(lambda_value, rho, gamma = GAMMA)\n",
    "\n",
    "# L2 norm - this is the t_bar\n",
    "attenuated_signal = np.linalg.norm(G_total) - att_bias\n",
    "\n",
    "# Fourier transform \n",
    "F_y = U_transpose_intrest*Y\n",
    "\n",
    "# cororllary 6 : to fetch mu_sigma ratio \n",
    "omega = neighbour_count\n",
    "mu_sigma_ratio = omega*SNR_critical**(1/4)\n",
    "\n",
    "#final H0, H1 cal\n",
    "H0_final = 2*(np.sqrt(H0_val) + np.log(1/ALPHA))\n",
    "H1_final = (1/2)*((mu_sigma_ratio)**2)- 2*(mu_sigma_ratio)*np.sqrt(np.log(2/GAMMA))- 2*(np.sqrt(H1_val))\n",
    "\n",
    "print(\"The value of T_bar : \", attenuated_signal)\n",
    "print(\"H0 hypothesis significance : \", H0_final)\n",
    "print(\"H1 hypothesis significance : \", H1_final)"
   ]
  },
  {
   "cell_type": "code",
   "execution_count": 40,
   "metadata": {},
   "outputs": [
    {
     "data": {
      "text/plain": [
       "79.97751142862046"
      ]
     },
     "execution_count": 40,
     "metadata": {},
     "output_type": "execute_result"
    }
   ],
   "source": [
    "attenuated_signal"
   ]
  },
  {
   "cell_type": "code",
   "execution_count": 41,
   "metadata": {},
   "outputs": [
    {
     "data": {
      "text/plain": [
       "matrix([[-2.01571850e+01],\n",
       "        [-5.27646894e+01],\n",
       "        [ 6.40126381e+00],\n",
       "        [ 1.54013560e+01],\n",
       "        [-2.16632452e+01],\n",
       "        [ 4.50395068e+01],\n",
       "        [ 2.14895344e+01],\n",
       "        [-2.70240585e+01],\n",
       "        [-6.31359517e+00],\n",
       "        [ 1.09793841e+01],\n",
       "        [ 1.50317913e+01],\n",
       "        [ 2.83384666e+01],\n",
       "        [ 1.94248343e+00],\n",
       "        [ 1.65796589e+01],\n",
       "        [-7.40886432e+00],\n",
       "        [ 2.10260494e+01],\n",
       "        [ 2.39805728e+01],\n",
       "        [-4.91687370e+00],\n",
       "        [-2.49956134e+00],\n",
       "        [-3.75351215e+00],\n",
       "        [-4.97653225e+00],\n",
       "        [-1.03428162e+01],\n",
       "        [-2.00764780e+00],\n",
       "        [-1.53481052e+01],\n",
       "        [ 4.13988430e+01],\n",
       "        [-3.37717579e+01],\n",
       "        [ 8.92701988e+00],\n",
       "        [ 2.83601140e-01],\n",
       "        [-1.38457910e+01],\n",
       "        [ 1.15247030e+01],\n",
       "        [ 2.36434735e-01],\n",
       "        [-4.39477572e+00],\n",
       "        [ 8.10887504e-01],\n",
       "        [-7.66298498e+00],\n",
       "        [-4.73456000e+00],\n",
       "        [ 9.80916447e+00],\n",
       "        [ 1.82838088e+00],\n",
       "        [-1.77269535e+00],\n",
       "        [-5.47993953e+00],\n",
       "        [-2.33427629e+01],\n",
       "        [-4.33891987e+01],\n",
       "        [-5.80125758e+00],\n",
       "        [-2.44206621e+01],\n",
       "        [-1.42224410e+00],\n",
       "        [ 3.02926376e+01],\n",
       "        [-1.03390627e+01],\n",
       "        [-4.07621719e+00],\n",
       "        [-8.29037272e+00],\n",
       "        [-3.08077579e+00],\n",
       "        [-3.03113762e+01],\n",
       "        [ 2.65790775e+01],\n",
       "        [-5.97233366e-01],\n",
       "        [ 1.19818072e+00],\n",
       "        [-3.25757572e+01],\n",
       "        [ 1.73248206e-01],\n",
       "        [-1.63053974e+00],\n",
       "        [ 5.49847483e+00],\n",
       "        [-9.41952435e-01],\n",
       "        [-3.14618158e+00],\n",
       "        [ 3.16379263e+00],\n",
       "        [ 1.68067323e+00],\n",
       "        [ 5.55488937e+00],\n",
       "        [-2.67003827e+00],\n",
       "        [-1.99677625e+00],\n",
       "        [ 3.97652112e+00],\n",
       "        [ 1.77435879e-01],\n",
       "        [ 5.10328267e-01],\n",
       "        [-6.47326867e+00],\n",
       "        [-9.92968613e-01],\n",
       "        [ 1.98489104e+00],\n",
       "        [-2.88233180e+00],\n",
       "        [ 1.10435477e+01],\n",
       "        [-5.69360680e+00],\n",
       "        [-7.46294752e+00],\n",
       "        [-4.82896519e+00],\n",
       "        [ 9.25870581e+00],\n",
       "        [ 3.05539418e+00],\n",
       "        [ 2.68010381e+01],\n",
       "        [-2.41229727e+01],\n",
       "        [ 1.77386540e+00],\n",
       "        [ 1.20333757e+01],\n",
       "        [-1.59117709e+00],\n",
       "        [ 1.27079806e+01],\n",
       "        [-1.84392739e+00],\n",
       "        [ 6.64848164e+01],\n",
       "        [ 2.17202893e+01],\n",
       "        [-1.17170289e+01],\n",
       "        [-6.01026536e+00],\n",
       "        [ 1.28911585e+01],\n",
       "        [ 1.73275675e+00],\n",
       "        [-4.61715691e+00],\n",
       "        [ 5.20791367e+00],\n",
       "        [-1.66881645e+00],\n",
       "        [-2.88963039e+00],\n",
       "        [-8.76027410e+00],\n",
       "        [-5.42290403e+00],\n",
       "        [-9.27263941e+00],\n",
       "        [ 2.80250936e+00],\n",
       "        [-1.74656570e+01],\n",
       "        [-5.33135116e+00],\n",
       "        [-3.08212298e+00],\n",
       "        [-1.08169016e+01],\n",
       "        [-5.49029527e+00],\n",
       "        [-1.36566726e+00],\n",
       "        [ 1.40157649e+01],\n",
       "        [ 1.17860388e+01],\n",
       "        [ 7.75213776e+00],\n",
       "        [ 2.87260504e+01],\n",
       "        [ 1.19490981e+00],\n",
       "        [ 2.48298468e+00],\n",
       "        [-2.89638891e+00],\n",
       "        [ 5.01298762e+00],\n",
       "        [ 2.33376794e+01],\n",
       "        [ 9.81966943e+00],\n",
       "        [-1.78500274e+00],\n",
       "        [-5.32338962e+00],\n",
       "        [-8.19304094e+00],\n",
       "        [ 5.82572598e+00],\n",
       "        [-1.11277224e+01],\n",
       "        [-1.17707323e+00],\n",
       "        [ 3.17187293e-01],\n",
       "        [ 2.76219571e+00],\n",
       "        [ 7.24865311e-01],\n",
       "        [-3.79957029e+01],\n",
       "        [ 1.02971930e+01],\n",
       "        [-1.42819363e+00],\n",
       "        [ 4.24744721e+00],\n",
       "        [-1.45921407e+01],\n",
       "        [ 5.23762792e+00],\n",
       "        [-5.39781722e+01],\n",
       "        [-3.34104834e+00],\n",
       "        [-3.48763572e+00],\n",
       "        [-2.09902608e+00],\n",
       "        [-8.71624226e+00],\n",
       "        [-6.77845240e+00],\n",
       "        [-6.13972691e-01],\n",
       "        [ 2.06973951e+00],\n",
       "        [ 1.15227451e+00],\n",
       "        [ 8.99091774e+00],\n",
       "        [ 9.26260480e+00],\n",
       "        [ 1.56833473e+01],\n",
       "        [-1.43670171e+01],\n",
       "        [ 2.06519146e-01],\n",
       "        [ 9.78979478e-01],\n",
       "        [ 5.33383049e-01],\n",
       "        [-2.47367966e-02],\n",
       "        [ 4.62676532e-01],\n",
       "        [-1.38958652e+01],\n",
       "        [-5.59974731e+00],\n",
       "        [-1.04078189e+01],\n",
       "        [ 1.97950616e-01],\n",
       "        [ 1.64517779e+01],\n",
       "        [ 3.11411633e+01],\n",
       "        [-3.15529734e+00],\n",
       "        [ 6.82052712e+00],\n",
       "        [ 6.97487527e+00],\n",
       "        [-1.07740358e+00],\n",
       "        [ 4.57514675e+01],\n",
       "        [-5.57577336e-01],\n",
       "        [-5.15735198e+00],\n",
       "        [-2.26159290e+01],\n",
       "        [-3.95779496e-01],\n",
       "        [-1.00472410e+01],\n",
       "        [ 6.49944145e+00],\n",
       "        [-1.50700262e+00],\n",
       "        [ 5.70079977e-01],\n",
       "        [-5.15683518e-01],\n",
       "        [-2.09303799e+01],\n",
       "        [ 6.54055527e+00],\n",
       "        [-7.95608328e+00],\n",
       "        [-2.29374260e+00],\n",
       "        [-1.94726272e+00],\n",
       "        [-3.15265893e-01],\n",
       "        [ 5.75687768e+01],\n",
       "        [ 1.42099704e+00],\n",
       "        [ 1.04291849e+01],\n",
       "        [-2.26651273e+00],\n",
       "        [ 2.37072640e+01],\n",
       "        [-3.06155709e+01],\n",
       "        [-3.69046662e+00],\n",
       "        [-3.33347684e-01],\n",
       "        [-3.24072159e+01],\n",
       "        [-2.32576355e-01],\n",
       "        [ 2.92172941e+00],\n",
       "        [ 3.23115106e+00],\n",
       "        [ 1.08271576e+01],\n",
       "        [ 5.60962501e+01],\n",
       "        [ 2.01235884e+01],\n",
       "        [ 9.06613513e+00],\n",
       "        [ 7.07226849e+00],\n",
       "        [-3.08552672e+01],\n",
       "        [ 1.02815780e+01],\n",
       "        [-1.19105132e+00],\n",
       "        [-6.81244524e-01],\n",
       "        [ 5.21741397e-01],\n",
       "        [ 1.24070246e+01],\n",
       "        [-1.80921613e+00],\n",
       "        [-2.95219104e+00],\n",
       "        [ 4.42883146e+00],\n",
       "        [-9.91133867e-01],\n",
       "        [-8.26105820e+00],\n",
       "        [ 4.21614176e-01],\n",
       "        [-2.31821592e-01],\n",
       "        [ 1.21251467e+00],\n",
       "        [-2.12842850e-01],\n",
       "        [-1.47414079e+01],\n",
       "        [ 3.11147451e+00],\n",
       "        [ 1.34231441e+00],\n",
       "        [ 4.58949805e+00],\n",
       "        [ 4.12527580e+00],\n",
       "        [-2.10310705e+01],\n",
       "        [ 5.20193536e+00],\n",
       "        [-6.07649399e+00],\n",
       "        [ 2.56571367e+00],\n",
       "        [ 1.40927273e+00],\n",
       "        [-1.81554023e+01],\n",
       "        [-1.44010918e+00],\n",
       "        [-3.00702107e+00]])"
      ]
     },
     "execution_count": 41,
     "metadata": {},
     "output_type": "execute_result"
    }
   ],
   "source": [
    "F_y"
   ]
  },
  {
   "cell_type": "code",
   "execution_count": 42,
   "metadata": {},
   "outputs": [
    {
     "data": {
      "text/plain": [
       "(219, 1)"
      ]
     },
     "execution_count": 42,
     "metadata": {},
     "output_type": "execute_result"
    }
   ],
   "source": [
    "G_total.shape"
   ]
  },
  {
   "cell_type": "code",
   "execution_count": 43,
   "metadata": {},
   "outputs": [
    {
     "data": {
      "text/plain": [
       "Text(0.5, 0, 'coefficient index')"
      ]
     },
     "execution_count": 43,
     "metadata": {},
     "output_type": "execute_result"
    },
    {
     "data": {
      "image/png": "[encoded data removed]",
      "text/plain": [
       "<Figure size 432x288 with 2 Axes>"
      ]
     },
     "metadata": {
      "needs_background": "light"
     },
     "output_type": "display_data"
    }
   ],
   "source": [
    "plt.subplot(2,1,1)\n",
    "plt.plot(eig_val)\n",
    "plt.ylabel('eigen values')\n",
    "plt.xlabel('coefficient index')\n",
    "\n",
    "plt.subplot(2,1,2)\n",
    "plt.plot(np.power(F_y,2))\n",
    "plt.ylabel('fourier loadings')\n",
    "plt.xlabel('coefficient index')"
   ]
  },
  {
   "cell_type": "markdown",
   "metadata": {},
   "source": [
    "# Experiments "
   ]
  },
  {
   "cell_type": "markdown",
   "metadata": {},
   "source": [
    "### calculate TPR and FPR for original "
   ]
  },
  {
   "cell_type": "code",
   "execution_count": 44,
   "metadata": {},
   "outputs": [],
   "source": [
    "def test_statistic(eig_val, eig_vec, rho, ALPHA, GAMMA, Y):\n",
    "    eig_val_intrest = eig_val[1:]\n",
    "    eig_vector_intrest = eig_vec[:,1:]\n",
    "    U_transpose_intrest = eig_vector_intrest.T\n",
    "\n",
    "    G_total = 0\n",
    "    att_bias = 0 \n",
    "    H0_val, H1_val = 0,0\n",
    "    SNR_critical = 0 \n",
    "\n",
    "    for lambda_count in range(len(eig_val_intrest)):\n",
    "        lambda_value = eig_val_intrest[lambda_count]\n",
    "\n",
    "        G_val = (h_function(lambda_value, rho)*(eig_vector_intrest[:,lambda_count].T * Y).item()) * eig_vector_intrest[:,lambda_count]\n",
    "\n",
    "        att_bias += (h_function(lambda_value, rho))**2\n",
    "\n",
    "        G_total += G_val\n",
    "\n",
    "        ## corollary 6 : the GFSS (t_bar) can asymptotically distinguish H0 from H1 if the SNR is stronger than below\n",
    "        SNR_critical += critial_snr(lambda_value, rho)\n",
    "\n",
    "        H0_val += H0_calc(lambda_value, rho, alpha = ALPHA)\n",
    "        H1_val += H1_calc(lambda_value, rho, gamma = GAMMA)\n",
    "\n",
    "\n",
    "    # L2 norm - this is the t_bar\n",
    "    attenuated_signal = np.linalg.norm(G_total) - att_bias\n",
    "\n",
    "    # Fourier transform \n",
    "    F_y = U_transpose_intrest*Y\n",
    "\n",
    "    # cororllary 6 : to fetch mu_sigma ratio \n",
    "    omega = neighbour_count\n",
    "    mu_sigma_ratio = omega*SNR_critical**(1/4)\n",
    "\n",
    "    #final H0, H1 cal\n",
    "    H0_final = 2*(np.sqrt(H0_val) + np.log(1/ALPHA))\n",
    "    H1_final = (1/2)*((mu_sigma_ratio)**2)- 2*(mu_sigma_ratio)*np.sqrt(np.log(2/GAMMA))- 2*(np.sqrt(H1_val))\n",
    "\n",
    "    # print(\"The value of T_bar : \", attenuated_signal)\n",
    "    # print(\"H0 hypothesis significance : \", H0_final)\n",
    "    # print(\"H1 hypothesis significance : \", H1_final)\n",
    "\n",
    "    return attenuated_signal, H0_final, H1_final"
   ]
  },
  {
   "cell_type": "code",
   "execution_count": 45,
   "metadata": {},
   "outputs": [],
   "source": [
    "def contaminate(contamination_index, count, overall_count, Y_original=None): \n",
    "    if Y_original==None:\n",
    "        overall_signal = np.random.normal(6.0 ,size=(overall_count,1))\n",
    "        noise = np.take(overall_signal, contamination_index)\n",
    "        contaminated_signal =np.ones((count,1))*7 + noise\n",
    "        np.put(overall_signal, contamination_index, contaminated_signal)\n",
    "    else:\n",
    "        noise = np.take(overall_signal, contamination_index)\n",
    "        overall_signal = Y_original\n",
    "        np.put(overall_signal, contamination_index, noise)\n",
    "    return overall_signal\n",
    "\n",
    "def contaminate_correct(contamination_index, count, overall_count, print_norm=None, without_contamination=False): \n",
    "    elevation = 0.47\n",
    "    x = np.zeros(overall_count)\n",
    "    \n",
    "    if not without_contamination:\n",
    "        for i in range(overall_count):\n",
    "            if i in contamination_index:\n",
    "                x[i] = elevation\n",
    "\n",
    "    # Compute the mean of the signal\n",
    "    x_bar = np.mean(x)\n",
    "\n",
    "    # Add Gaussian noise with sigma = 1 to the signal\n",
    "    x += np.random.normal(scale=1, size=overall_count)\n",
    "\n",
    "    # Compute the L2 norm of the signal\n",
    "    l2_norm = np.square(np.linalg.norm(x - x_bar, ord=2))\n",
    "    mse = np.square(abs(x - x_bar)).mean()\n",
    "    \n",
    "    if print_norm:\n",
    "        print(\"L2 norm : \", l2_norm)\n",
    "        print(\"MSE error : \", mse)\n",
    "    \n",
    "    return x.reshape(-1,1)"
   ]
  },
  {
   "cell_type": "markdown",
   "metadata": {},
   "source": [
    "### Experiment 1 : 112 contaminated wells - close together "
   ]
  },
  {
   "cell_type": "code",
   "execution_count": 46,
   "metadata": {},
   "outputs": [],
   "source": [
    "## select the closest wells \n",
    "number_contamination_wells = 112\n",
    "\n",
    "picked_sample = df_NN.sample()\n",
    "\n",
    "picked_lat = picked_sample.iloc[0].LAT_DD\n",
    "picked_lon = picked_sample.iloc[0].LON_DD"
   ]
  },
  {
   "cell_type": "code",
   "execution_count": 47,
   "metadata": {},
   "outputs": [],
   "source": [
    "df_NN['Lat_distance'] = np.square(df_NN.LAT_DD - picked_lat)\n",
    "df_NN['Lon_distance'] = np.square(df_NN.LON_DD - picked_lon)"
   ]
  },
  {
   "cell_type": "code",
   "execution_count": 48,
   "metadata": {},
   "outputs": [],
   "source": [
    "contamination_index = df_NN.nsmallest(number_contamination_wells, ['Lat_distance', 'Lon_distance']).index.values"
   ]
  },
  {
   "cell_type": "code",
   "execution_count": 49,
   "metadata": {},
   "outputs": [],
   "source": [
    "def calulate_rates(output):\n",
    "    TPR = 0;\n",
    "    FPR = 0;\n",
    "\n",
    "    df_output = pd.DataFrame(output, columns=['signal', 'h0', 'h1', 'actual'])\n",
    "    tn_count = ((df_output.h0 > df_output.signal) & (df_output.actual == 'no')).sum()\n",
    "    fp_count = ((df_output.h0 <= df_output.signal) & (df_output.actual == 'no')).sum()\n",
    "    \n",
    "    fn_count = ((df_output.h1 >= df_output.signal) & (df_output.actual == 'yes')).sum()\n",
    "    tp_count = ((df_output.h1 < df_output.signal) & (df_output.actual == 'yes')).sum()\n",
    "    \n",
    "    tpr = tp_count/(tp_count + fn_count)\n",
    "    fpr = fp_count/(fp_count + tn_count)\n",
    "\n",
    "    if np.isnan(tpr):\n",
    "        TPR=1;\n",
    "    else:\n",
    "        TPR=tpr\n",
    "\n",
    "    if np.isnan(fpr):\n",
    "        FPR=1\n",
    "    else:\n",
    "        FPR=fpr\n",
    "\n",
    "    return TPR, FPR"
   ]
  },
  {
   "cell_type": "code",
   "execution_count": 50,
   "metadata": {},
   "outputs": [
    {
     "data": {
      "application/vnd.jupyter.widget-view+json": {
       "model_id": "a5ab7aba0d8b4d318175c63b4597f5cc",
       "version_major": 2,
       "version_minor": 0
      },
      "text/plain": [
       "  0%|          | 0/200 [00:00<?, ?it/s]"
      ]
     },
     "metadata": {},
     "output_type": "display_data"
    }
   ],
   "source": [
    "loop_count = 200\n",
    "neighbour_count = 8\n",
    "\n",
    "output = []\n",
    "\n",
    "for _ in tqdm(range(loop_count)):\n",
    "    # Y_generated = contaminate(contamination_index, number_contamination_wells, len(df_y))\n",
    "\n",
    "    Y_generated = contaminate_correct(contamination_index, number_contamination_wells, len(df_y))\n",
    "    df_y = pd.DataFrame(Y_generated)\n",
    "\n",
    "    ## generate the graph \n",
    "    Adj = kneighbors_graph(df_y, neighbour_count,  mode='connectivity', include_self=False)\n",
    "    W = Adj.toarray()\n",
    "    D = np.diagflat(Adj.sum(axis=1))\n",
    "\n",
    "    combinatorial_laplacian = D - Adj\n",
    "    eig_val, eig_vec = np.linalg.eig(combinatorial_laplacian)\n",
    "\n",
    "    idx = eig_val.argsort()[::1]   \n",
    "    eig_val = eig_val[idx]\n",
    "    eig_vec = eig_vec[:,idx]\n",
    "    rho = eig_val[math.floor(sub_sample_id_count*0.05)] # smallest 96 eigen value \n",
    "\n",
    "    ## since kneighbors from scikit learn used a digraph we will always get non symmetric matrix, hence lets force it to and undirected case \n",
    "    Adj = Adj + Adj.T\n",
    "    Adj[Adj > 1] = 1\n",
    "\n",
    "    attenuated_signal, H0_final, H1_final = test_statistic(eig_val, eig_vec, rho, ALPHA, GAMMA, Y_generated)\n",
    "\n",
    "    output.append([attenuated_signal, abs(H0_final), abs(H1_final), \"yes\"])"
   ]
  },
  {
   "cell_type": "code",
   "execution_count": 51,
   "metadata": {},
   "outputs": [
    {
     "name": "stderr",
     "output_type": "stream",
     "text": [
      "/var/folders/hp/7f70q29n23j1gy07qmhs38v40000gn/T/ipykernel_34026/3591155387.py:13: RuntimeWarning: invalid value encountered in long_scalars\n",
      "  fpr = fp_count/(fp_count + tn_count)\n"
     ]
    },
    {
     "data": {
      "text/plain": [
       "(0.0, 1)"
      ]
     },
     "execution_count": 51,
     "metadata": {},
     "output_type": "execute_result"
    }
   ],
   "source": [
    "calulate_rates(output)"
   ]
  },
  {
   "cell_type": "code",
   "execution_count": 52,
   "metadata": {},
   "outputs": [
    {
     "data": {
      "text/plain": [
       "[[15.407174771421374, 15.45391035560564, 62.87694842754223, 'yes'],\n",
       " [35.2148695853128, 14.908411513520646, 58.681320456280986, 'yes'],\n",
       " [23.34669027738423, 15.295254306088088, 61.653860424926236, 'yes'],\n",
       " [23.640828411628576, 15.175658485726599, 60.73339269425624, 'yes'],\n",
       " [10.43111492882123, 15.234368548251933, 61.18509085682102, 'yes'],\n",
       " [27.7373952647213, 16.081831010698217, 67.73902434980646, 'yes'],\n",
       " [27.61346382034177, 15.1051777090301, 60.191553271071484, 'yes'],\n",
       " [27.77576789877904, 14.931968886631882, 58.861936518900706, 'yes'],\n",
       " [27.158134884600454, 14.780232081131594, 57.69949429515844, 'yes'],\n",
       " [15.286946023862736, 15.14643046163799, 60.508638866424434, 'yes'],\n",
       " [35.085710728514854, 15.228600052493006, 61.140695748779166, 'yes'],\n",
       " [26.778512814913736, 15.410745637025657, 62.54396661657266, 'yes'],\n",
       " [27.659567034460657, 15.813106308118218, 65.65416676502417, 'yes'],\n",
       " [20.04215912540862, 15.440998258312527, 62.777324434413316, 'yes'],\n",
       " [24.566419014851327, 15.342431413644205, 62.017315611406886, 'yes'],\n",
       " [8.760272604122473, 15.163566174562407, 60.640397272452105, 'yes'],\n",
       " [28.729613191302825, 14.55059647539369, 55.94455982202214, 'yes'],\n",
       " [23.14853487096827, 16.28176570309978, 69.29400853445387, 'yes'],\n",
       " [15.103250851012131, 16.242646109362333, 68.98950553743256, 'yes'],\n",
       " [45.98678919914711, 15.150330396563184, 60.538623518057975, 'yes'],\n",
       " [61.56934898869302, 15.392673977125698, 62.40460720077938, 'yes'],\n",
       " [16.076701217510678, 14.919243449186736, 58.764363101241585, 'yes'],\n",
       " [25.184054253414892, 15.942832703985273, 66.65988161440563, 'yes'],\n",
       " [35.78085514493209, 16.005343365294827, 67.14500004450271, 'yes'],\n",
       " [38.37057325418891, 16.20612308182327, 68.70532398032597, 'yes'],\n",
       " [12.924302980297742, 15.544988538208283, 63.580084754680826, 'yes'],\n",
       " [26.73466474311806, 16.001316463396552, 67.11373928284837, 'yes'],\n",
       " [31.46736489785453, 15.841174760280099, 65.87165040459925, 'yes'],\n",
       " [4.775615359526103, 16.159111035243384, 68.33968578248921, 'yes'],\n",
       " [3.8269162561873813, 14.755406330064872, 57.509518648693444, 'yes'],\n",
       " [39.47751546543285, 15.475993728648826, 63.04736808535339, 'yes'],\n",
       " [38.076591324866094, 15.237510404155557, 61.20927227393828, 'yes'],\n",
       " [15.012825872173472, 14.996991365551933, 59.36074240863462, 'yes'],\n",
       " [14.709290611826802, 15.013744707419148, 59.489326868852736, 'yes'],\n",
       " [30.968991994858253, 15.248065354237013, 61.29051545255179, 'yes'],\n",
       " [19.744763113963845, 16.267613043712714, 69.18383161664514, 'yes'],\n",
       " [29.136777565073274, 15.643243151807818, 64.33943685225722, 'yes'],\n",
       " [21.316002361540566, 15.99481298908916, 67.06325575260959, 'yes'],\n",
       " [22.368447770051553, 15.347439372524459, 62.05590898725352, 'yes'],\n",
       " [26.544240884974364, 14.743124742965358, 57.41555776320024, 'yes'],\n",
       " [34.936807411791165, 15.760732227518083, 65.24853283114456, 'yes'],\n",
       " [26.991309635163546, 16.02460601652713, 67.29455405136034, 'yes'],\n",
       " [34.946489161890256, 15.339270133050144, 61.99295465300135, 'yes'],\n",
       " [9.83575348566421, 15.061994692335148, 59.85980034834926, 'yes'],\n",
       " [32.64798514005692, 15.490229064786323, 63.15724645395062, 'yes'],\n",
       " [15.20177905349587, 15.596599487022269, 63.97885092419697, 'yes'],\n",
       " [27.51683613917505, 15.196572907035216, 60.894265940630646, 'yes'],\n",
       " [13.613277918119842, 15.553558165565962, 63.646280938113165, 'yes'],\n",
       " [6.081835626072948, 15.20963456041805, 60.994756243466924, 'yes'],\n",
       " [30.115628591387846, 15.738937890918823, 65.0798055837677, 'yes'],\n",
       " [22.422713897224618, 15.150930064438556, 60.543234189437214, 'yes'],\n",
       " [45.35875721236681, 15.303613147146896, 61.718242781927515, 'yes'],\n",
       " [30.26564407173628, 14.894617220107973, 58.57558324681575, 'yes'],\n",
       " [19.981551522179434, 15.133463991972326, 60.40895626670699, 'yes'],\n",
       " [55.524837381643465, 15.26491245107146, 61.42021133309846, 'yes'],\n",
       " [13.304880853351122, 15.427214295400901, 62.67098982816938, 'yes'],\n",
       " [12.518703110067765, 15.30856339471373, 61.75637408427636, 'yes'],\n",
       " [22.276754757801385, 16.141283089409733, 68.201074657957, 'yes'],\n",
       " [43.95705523876883, 15.779280681765497, 65.39216289058271, 'yes'],\n",
       " [13.944571782688701, 15.376126855468408, 62.277029809781006, 'yes'],\n",
       " [13.30898447350856, 14.865103553933979, 58.34941382689497, 'yes'],\n",
       " [51.69825357623735, 15.321315853703254, 61.85461529526307, 'yes'],\n",
       " [12.929197961207283, 15.574087701171, 63.80488762993872, 'yes'],\n",
       " [25.401758482219304, 15.674180642358579, 64.57870738405916, 'yes'],\n",
       " [21.604810807265313, 15.3324923775308, 61.940728019379485, 'yes'],\n",
       " [1.8164930287466667, 14.99443009980816, 59.341086636004, 'yes'],\n",
       " [35.38517432106182, 14.76548823781741, 57.58666180542321, 'yes'],\n",
       " [13.443882508672381, 15.69892716297444, 64.77015614349298, 'yes'],\n",
       " [17.367820590717095, 15.9364657688532, 66.61048868179867, 'yes'],\n",
       " [19.150930260249613, 15.173585670580966, 60.71745083837533, 'yes'],\n",
       " [38.86082881678533, 15.430957450917637, 62.69986425120018, 'yes'],\n",
       " [22.155105972207014, 16.312678490698328, 69.53471640221127, 'yes'],\n",
       " [26.549267668170593, 14.821854836929719, 58.01814134698265, 'yes'],\n",
       " [14.415278772419725, 15.705962294334139, 64.82459224649189, 'yes'],\n",
       " [28.28993102977237, 15.174585437115839, 60.72513991364873, 'yes'],\n",
       " [31.470917266180493, 15.603881323490674, 64.03513185855229, 'yes'],\n",
       " [27.399306717551365, 15.546186196984777, 63.58933569777357, 'yes'],\n",
       " [15.909199368809702, 15.325572861244996, 61.88741330045866, 'yes'],\n",
       " [12.451559591178526, 15.406746526255956, 62.5131250078753, 'yes'],\n",
       " [16.69036108197668, 15.648002582246287, 64.3762409205357, 'yes'],\n",
       " [22.220522443081244, 15.404962533671695, 62.49936710848932, 'yes'],\n",
       " [9.754813928571728, 15.190437927034047, 60.84707165104913, 'yes'],\n",
       " [26.675594923135428, 15.298789474603733, 61.681088605810814, 'yes'],\n",
       " [19.05080358571074, 15.889238435814761, 66.24421713395361, 'yes'],\n",
       " [27.15323064721883, 15.509105382838994, 63.30297471050972, 'yes'],\n",
       " [23.390920952127374, 15.470009660381125, 63.001184160163454, 'yes'],\n",
       " [24.25330539712182, 15.268257832297046, 61.44596852484375, 'yes'],\n",
       " [33.04081739440882, 15.02713335672632, 59.59210580569116, 'yes'],\n",
       " [27.651042205656978, 15.178442074156582, 60.75480167272244, 'yes'],\n",
       " [22.48806146644836, 14.545878908298391, 55.90856207670079, 'yes'],\n",
       " [13.286307984083294, 15.568918546901994, 63.76494841704382, 'yes'],\n",
       " [24.922994541699087, 16.251891525137566, 69.06145994877927, 'yes'],\n",
       " [30.683666410360757, 16.321769103647345, 69.60551643014766, 'yes'],\n",
       " [16.787434149361097, 15.09480513958048, 60.111850293734534, 'yes'],\n",
       " [15.03484333872688, 15.470017090461724, 63.00124150218266, 'yes'],\n",
       " [25.556384802383818, 14.770813228594735, 57.62741073936094, 'yes'],\n",
       " [4.963578727450383, 15.675767470194264, 64.5909821285207, 'yes'],\n",
       " [-1.9715389836954564, 14.921565438364318, 58.7821660063797, 'yes'],\n",
       " [27.10761235270902, 15.132978550449494, 60.40522462986049, 'yes'],\n",
       " [21.23846248693617, 15.271222335687161, 61.46879406220836, 'yes'],\n",
       " [45.67644660317885, 16.081254823175087, 67.73454773249883, 'yes'],\n",
       " [21.524172604566047, 15.673772519944558, 64.57555042981579, 'yes'],\n",
       " [29.759019162990025, 15.725198793082736, 64.97346110152203, 'yes'],\n",
       " [14.215968799891531, 14.644312733895301, 56.66013169409176, 'yes'],\n",
       " [24.764577221478305, 17.50442994328164, 78.86933516925892, 'yes'],\n",
       " [47.59189836727993, 14.948587117967893, 58.98938150969975, 'yes'],\n",
       " [21.546941474388316, 14.685788168338762, 56.97709745898552, 'yes'],\n",
       " [16.423114638123685, 14.73687788899827, 57.367771568336444, 'yes'],\n",
       " [24.3396985818599, 16.084797861513334, 67.76207535574241, 'yes'],\n",
       " [15.726925266271941, 16.094717323138177, 67.83915000371742, 'yes'],\n",
       " [19.90244381280077, 15.811455791665491, 65.64138008303706, 'yes'],\n",
       " [25.88131649461614, 15.055674645061089, 59.81126127827008, 'yes'],\n",
       " [16.21649952979981, 16.04776056343294, 67.47436472918929, 'yes'],\n",
       " [19.37232876754495, 14.936654118480853, 58.897864837131635, 'yes'],\n",
       " [30.749631649001604, 15.369490224148814, 62.22586862961619, 'yes'],\n",
       " [22.617201220329783, 15.560303424246449, 63.69838927460381, 'yes'],\n",
       " [27.117309552250465, 15.536780117578095, 63.51668473518569, 'yes'],\n",
       " [57.66803940035162, 14.849301315699996, 58.228352390554434, 'yes'],\n",
       " [12.466086771847884, 14.448743002194673, 55.16786083949812, 'yes'],\n",
       " [46.447283493091774, 15.637457946258225, 64.29470322643886, 'yes'],\n",
       " [24.720969833823485, 15.478040410937693, 63.063164723619145, 'yes'],\n",
       " [27.80500304451814, 15.562114917375999, 63.712384060961874, 'yes'],\n",
       " [28.727004055302107, 15.8734391876073, 66.12172755837155, 'yes'],\n",
       " [33.15666946554416, 15.364271194817135, 62.185638382961436, 'yes'],\n",
       " [19.87878768103215, 15.190260050691128, 60.845703361109784, 'yes'],\n",
       " [13.327545798833366, 15.461106973852228, 62.93248073507786, 'yes'],\n",
       " [8.60217059044668, 14.884996638043646, 58.50184952022384, 'yes'],\n",
       " [50.86231929932371, 15.38170754959627, 62.320053917389, 'yes'],\n",
       " [35.040358793380946, 14.944540809808327, 58.95834800677396, 'yes'],\n",
       " [25.073569303695706, 14.778562305047767, 57.68671467706274, 'yes'],\n",
       " [17.31255274501046, 15.52091211758173, 63.39414054481118, 'yes'],\n",
       " [4.510729882712866, 16.03104622061513, 67.34456217573195, 'yes'],\n",
       " [21.69615698421124, 16.10905549010588, 67.95057230355106, 'yes'],\n",
       " [14.065535897488282, 14.503924767891306, 55.58852687432786, 'yes'],\n",
       " [8.385359319101486, 15.87520621139189, 66.13542603481551, 'yes'],\n",
       " [17.10203861700521, 15.014435436007435, 59.49462888419399, 'yes'],\n",
       " [15.297041633565104, 15.563656486665455, 63.72429376172551, 'yes'],\n",
       " [15.83892083933696, 15.581806325112069, 63.864529522647445, 'yes'],\n",
       " [45.594056490013585, 15.366465574714663, 62.202553193618876, 'yes'],\n",
       " [45.00217006739247, 15.264732963510294, 61.41882942799754, 'yes'],\n",
       " [34.050908731171475, 15.935212714702027, 66.60076822787869, 'yes'],\n",
       " [38.9121146112477, 15.354873606200044, 62.11320438113346, 'yes'],\n",
       " [29.575683203306077, 15.243947553367295, 61.25881885714851, 'yes'],\n",
       " [36.28572963141275, 14.924047250212764, 58.801194855614085, 'yes'],\n",
       " [21.164532641921262, 15.776544253852151, 65.37097151222366, 'yes'],\n",
       " [10.785203649587988, 15.909582134995942, 66.40196993123232, 'yes'],\n",
       " [0.9704705525796449, 15.92791012142255, 66.54412161413205, 'yes'],\n",
       " [14.004146006807474, 15.498174625559042, 63.218583660610875, 'yes'],\n",
       " [21.641158149812604, 15.588913593643193, 63.91945204717453, 'yes'],\n",
       " [34.00780997819028, 15.18819212691711, 60.82979634775535, 'yes'],\n",
       " [17.37989098693445, 16.226059586288113, 68.86043447122202, 'yes'],\n",
       " [12.491815729742783, 15.044888652226323, 59.7284316018736, 'yes'],\n",
       " [14.616724848882143, 15.34511778844623, 62.03801763226276, 'yes'],\n",
       " [18.580615206780173, 14.608702482633758, 56.388125566152056, 'yes'],\n",
       " [27.32041712533079, 14.793074920093158, 57.797795937431076, 'yes'],\n",
       " [23.16211889040359, 15.427323975584006, 62.67183587524002, 'yes'],\n",
       " [24.29040502961287, 15.55546816041257, 63.661035588867925, 'yes'],\n",
       " [17.330844645727254, 15.133822370085753, 60.41171116859593, 'yes'],\n",
       " [19.081263275822632, 14.726361254444784, 57.28733172770947, 'yes'],\n",
       " [10.429505217230432, 15.213105591450926, 61.0214633751894, 'yes'],\n",
       " [40.41995309694438, 15.221320227209276, 61.084673586652336, 'yes'],\n",
       " [19.038624383455396, 15.07729232140155, 59.977304277181794, 'yes'],\n",
       " [5.88503839010842, 15.909609217644782, 66.4021799633868, 'yes'],\n",
       " [16.262113488900454, 15.7241004545367, 64.96496034673964, 'yes'],\n",
       " [32.14801375821314, 15.350273567646346, 62.07775145037412, 'yes'],\n",
       " [25.407732323821627, 15.055100002766403, 59.8068481101874, 'yes'],\n",
       " [24.194102777543062, 15.03471519493499, 59.65031581085056, 'yes'],\n",
       " [36.33059034972416, 15.608150068809726, 64.0681269062929, 'yes'],\n",
       " [16.177163489358662, 15.664466635411294, 64.50357039197326, 'yes'],\n",
       " [24.240364959028575, 15.703029377878828, 64.80189755117776, 'yes'],\n",
       " [37.49597243321327, 14.966026903486345, 59.123155221321454, 'yes'],\n",
       " [13.989810353947423, 15.027224558537624, 59.592805980821616, 'yes'],\n",
       " [31.975668349925712, 14.68465222705676, 56.968414039538665, 'yes'],\n",
       " [18.189951804479875, 15.747162995487992, 65.14347789844446, 'yes'],\n",
       " [31.452627026526844, 15.390174091673616, 62.38533165384406, 'yes'],\n",
       " [21.591667632392934, 15.625849451048524, 64.20495020806047, 'yes'],\n",
       " [24.160844230519473, 14.943834221593937, 58.95292892836145, 'yes'],\n",
       " [20.190573249036206, 14.805626097563557, 57.89388064366721, 'yes'],\n",
       " [18.610526815043784, 16.798195976864896, 73.32499412457764, 'yes'],\n",
       " [24.4449317162583, 15.148209918564856, 60.522320047610805, 'yes'],\n",
       " [17.10517045112436, 15.154692394478506, 60.57216240534986, 'yes'],\n",
       " [17.864430934846396, 15.500423618193757, 63.235946178443236, 'yes'],\n",
       " [4.394329666648705, 15.461783194968406, 62.93769899342995, 'yes'],\n",
       " [18.50729964251173, 15.146397109154409, 60.5083824418972, 'yes'],\n",
       " [0.974424044223138, 16.300585708906333, 69.4405448256444, 'yes'],\n",
       " [41.02427872604274, 16.04434588869661, 67.44784471927274, 'yes'],\n",
       " [11.992029800766133, 15.20829018771062, 60.984412541605906, 'yes'],\n",
       " [34.594466918290856, 14.846543363357087, 58.20722609938152, 'yes'],\n",
       " [55.73649767681408, 15.71756466420876, 64.91437775246274, 'yes'],\n",
       " [10.935434203810352, 15.266615527832135, 61.43332375488083, 'yes'],\n",
       " [26.750568367792436, 15.772695578187239, 65.34116776529025, 'yes'],\n",
       " [34.532391959929484, 14.95776381985724, 59.05976876821908, 'yes'],\n",
       " [27.200792811517292, 14.756415042013556, 57.51723650491439, 'yes'],\n",
       " [19.099543022328834, 15.15877657914215, 60.60356681128457, 'yes'],\n",
       " [15.389637929893091, 15.148764218419652, 60.526581787787805, 'yes'],\n",
       " [27.784845378866244, 15.432788246359467, 62.71398732402615, 'yes'],\n",
       " [24.5762100000297, 14.84154015318051, 58.16890270059054, 'yes'],\n",
       " [22.51014300861486, 15.52366977808405, 63.4154356129478, 'yes'],\n",
       " [26.813949048130244, 15.854359330079582, 65.97383165759298, 'yes'],\n",
       " [26.251388539965653, 14.897410318769058, 58.59699167700434, 'yes']]"
      ]
     },
     "execution_count": 52,
     "metadata": {},
     "output_type": "execute_result"
    }
   ],
   "source": [
    "output"
   ]
  },
  {
   "cell_type": "code",
   "execution_count": null,
   "metadata": {},
   "outputs": [],
   "source": []
  },
  {
   "cell_type": "code",
   "execution_count": 53,
   "metadata": {},
   "outputs": [],
   "source": [
    "def generate_graph(Y_generated, neighbour_count, sub_sample_id_count):  \n",
    "    df_y = pd.DataFrame(Y_generated)  \n",
    "    ## generate the graph \n",
    "    Adj = kneighbors_graph(df_y, neighbour_count,  mode='connectivity', include_self=False)\n",
    "    W = Adj.toarray()\n",
    "    D = np.diagflat(Adj.sum(axis=1))\n",
    "\n",
    "    combinatorial_laplacian = D - Adj\n",
    "    eig_val, eig_vec = np.linalg.eig(combinatorial_laplacian)\n",
    "\n",
    "    idx = eig_val.argsort()[::1]   \n",
    "    eig_val = eig_val[idx]\n",
    "    eig_vec = eig_vec[:,idx]\n",
    "    rho = eig_val[math.floor(sub_sample_id_count*0.05)] # smallest 96 eigen value \n",
    "\n",
    "    ## since kneighbors from scikit learn used a digraph we will always get non symmetric matrix, hence lets force it to and undirected case \n",
    "    Adj = Adj + Adj.T\n",
    "    Adj[Adj > 1] = 1\n",
    "\n",
    "    return eig_val, eig_vec, rho"
   ]
  },
  {
   "cell_type": "code",
   "execution_count": 54,
   "metadata": {},
   "outputs": [],
   "source": [
    "import warnings\n",
    "warnings.filterwarnings('ignore')"
   ]
  },
  {
   "cell_type": "code",
   "execution_count": 55,
   "metadata": {},
   "outputs": [
    {
     "data": {
      "application/vnd.jupyter.widget-view+json": {
       "model_id": "8ee45f1a6d824f58be55ad3baf69f5d9",
       "version_major": 2,
       "version_minor": 0
      },
      "text/plain": [
       "  0%|          | 0/9 [00:00<?, ?it/s]"
      ]
     },
     "metadata": {},
     "output_type": "display_data"
    }
   ],
   "source": [
    "ALPHA_list = np.arange(0.1,1.0,0.1)\n",
    "GAMMA_list = np.arange(0.1,1.0,0.1)\n",
    "loop_count = 200\n",
    "\n",
    "TPR = []\n",
    "FPR = []\n",
    "\n",
    "for alpha_val in tqdm(ALPHA_list):\n",
    "    for gamma_val in GAMMA_list:\n",
    "        \n",
    "        output = []\n",
    "        for contamination_test_case in ['yes', 'no']:\n",
    "            for _ in range(loop_count):\n",
    "                if contamination_test_case=='yes':\n",
    "                    # Y_generated = contaminate(contamination_index, number_contamination_wells, len(df_NN), Y_original=Y)\n",
    "                    Y_generated = contaminate_correct(contamination_index, number_contamination_wells, len(df_y))\n",
    "                    \n",
    "                else:\n",
    "                    Y_generated = contaminate_correct(contamination_index, number_contamination_wells, len(df_y), without_contamination=True)\n",
    "\n",
    "                eig_val_generated, eig_vec_generated, rho_generated = generate_graph(Y_generated, neighbour_count, sub_sample_id_count)\n",
    "                    \n",
    "                attenuated_signal, H0_final, H1_final = test_statistic(\n",
    "                                                                        eig_val_generated, eig_vec_generated, rho_generated, \n",
    "                                                                        alpha_val, gamma_val, Y_generated\n",
    "                                                                        )\n",
    "\n",
    "                output.append([attenuated_signal, abs(H0_final), abs(H1_final), contamination_test_case])\n",
    "        tpr, fpr = calulate_rates(output)\n",
    "        TPR.append(tpr);\n",
    "        FPR.append(fpr);"
   ]
  },
  {
   "cell_type": "code",
   "execution_count": 56,
   "metadata": {},
   "outputs": [
    {
     "name": "stderr",
     "output_type": "stream",
     "text": [
      "No artists with labels found to put in legend.  Note that artists whose label start with an underscore are ignored when legend() is called with no argument.\n"
     ]
    },
    {
     "data": {
      "image/png": "[encoded data removed]",
      "text/plain": [
       "<Figure size 432x288 with 1 Axes>"
      ]
     },
     "metadata": {
      "needs_background": "light"
     },
     "output_type": "display_data"
    }
   ],
   "source": [
    "## plot TRP vs FPR\n",
    "\n",
    "plt.figure; \n",
    "plt.title('Receiver Operating Characteristic contamination : 0.47, locations: 219')\n",
    "plt.scatter(TPR, FPR)\n",
    "plt.legend(loc = 'lower right')\n",
    "plt.plot([0, 1], [0, 1],'r--')\n",
    "plt.xlim([0, 1])\n",
    "plt.ylim([0, 1])\n",
    "plt.ylabel('True Positive Rate')\n",
    "plt.xlabel('False Positive Rate')\n",
    "plt.show()"
   ]
  },
  {
   "cell_type": "code",
   "execution_count": 64,
   "metadata": {},
   "outputs": [
    {
     "data": {
      "application/vnd.jupyter.widget-view+json": {
       "model_id": "9e16bd1554bb4409968c80758b658b0d",
       "version_major": 2,
       "version_minor": 0
      },
      "text/plain": [
       "  0%|          | 0/9 [00:00<?, ?it/s]"
      ]
     },
     "metadata": {},
     "output_type": "display_data"
    }
   ],
   "source": [
    "ALPHA_list = np.arange(0.1,1.0,0.1)\n",
    "GAMMA_list = np.arange(0.1,1.0,0.1)\n",
    "loop_count = 200\n",
    "number_contamination_wells = 2191\n",
    "\n",
    "TPR = []\n",
    "FPR = []\n",
    "\n",
    "for alpha_val in tqdm(ALPHA_list):\n",
    "    for gamma_val in GAMMA_list:\n",
    "        \n",
    "        output = []\n",
    "        for contamination_test_case in ['yes', 'no']:\n",
    "            for _ in range(loop_count):\n",
    "                if contamination_test_case=='yes':\n",
    "                    # Y_generated = contaminate(contamination_index, number_contamination_wells, len(df_NN), Y_original=Y)\n",
    "                    Y_generated = contaminate_correct(contamination_index, number_contamination_wells, len(df_y))\n",
    "                    \n",
    "                else:\n",
    "                    Y_generated = contaminate_correct(contamination_index, number_contamination_wells, len(df_y), without_contamination=True)\n",
    "\n",
    "                eig_val_generated, eig_vec_generated, rho_generated = generate_graph(Y_generated, neighbour_count, sub_sample_id_count)\n",
    "                    \n",
    "                attenuated_signal, H0_final, H1_final = test_statistic(\n",
    "                                                                        eig_val_generated, eig_vec_generated, rho_generated, \n",
    "                                                                        alpha_val, gamma_val, Y_generated\n",
    "                                                                        )\n",
    "\n",
    "                output.append([attenuated_signal, abs(H0_final), abs(H1_final), contamination_test_case])\n",
    "        tpr, fpr = calulate_rates(output)\n",
    "        TPR.append(tpr);\n",
    "        FPR.append(fpr);"
   ]
  },
  {
   "cell_type": "code",
   "execution_count": 65,
   "metadata": {},
   "outputs": [
    {
     "name": "stderr",
     "output_type": "stream",
     "text": [
      "No artists with labels found to put in legend.  Note that artists whose label start with an underscore are ignored when legend() is called with no argument.\n"
     ]
    },
    {
     "data": {
      "image/png": "[encoded data removed]",
      "text/plain": [
       "<Figure size 432x288 with 1 Axes>"
      ]
     },
     "metadata": {
      "needs_background": "light"
     },
     "output_type": "display_data"
    }
   ],
   "source": [
    "plt.figure; \n",
    "plt.title('Receiver Operating Characteristic contamination : 0.47, locations: 2191')\n",
    "plt.scatter(TPR, FPR)\n",
    "plt.legend(loc = 'lower right')\n",
    "plt.plot([0, 1], [0, 1],'r--')\n",
    "plt.xlim([0, 1])\n",
    "plt.ylim([0, 1])\n",
    "plt.ylabel('True Positive Rate')\n",
    "plt.xlabel('False Positive Rate')\n",
    "plt.show()"
   ]
  },
  {
   "cell_type": "code",
   "execution_count": null,
   "metadata": {},
   "outputs": [],
   "source": []
  },
  {
   "cell_type": "code",
   "execution_count": null,
   "metadata": {},
   "outputs": [],
   "source": []
  },
  {
   "cell_type": "code",
   "execution_count": null,
   "metadata": {},
   "outputs": [],
   "source": []
  },
  {
   "cell_type": "markdown",
   "metadata": {},
   "source": []
  },
  {
   "cell_type": "markdown",
   "metadata": {},
   "source": [
    "### test generation of signal"
   ]
  },
  {
   "cell_type": "code",
   "execution_count": 57,
   "metadata": {},
   "outputs": [],
   "source": [
    "import numpy as np\n",
    "\n",
    "# Set the level of elevation\n",
    "elevation = 0.47\n",
    "\n",
    "n = 112\n",
    "\n",
    "# wells_belong_to_contaminated_aquifer=[True, True, False]\n",
    "# wells_belong_to_contaminated_aquifer= np.random.choice(a=[True, False], size=(n, 1), p=[112/n, 1-112/n])\n",
    "wells_belong_to_contaminated_aquifer= np.ones((n,1))\n",
    "\n",
    "# Generate a signal with the specified elevation over the wells that belong\n",
    "# to a contaminated aquifer and zero over the other wells\n",
    "x = np.zeros(n)\n",
    "for i in range(n):\n",
    "  if wells_belong_to_contaminated_aquifer[i]:\n",
    "    x[i] = elevation\n",
    "\n",
    "# Compute the mean of the signal\n",
    "x_bar = np.mean(x)\n",
    "\n",
    "# Add Gaussian noise with sigma = 1 to the signal\n",
    "x += np.random.normal(scale=1, size=n)\n",
    "\n",
    "# Compute the L2 norm of the signal\n",
    "l2_norm = np.square(np.linalg.norm(x - x_bar, ord=2))\n",
    "\n",
    "l2_norm_mine = np.sum(np.square(x - x_bar))\n",
    "\n",
    "mse = np.square(abs(x - x_bar)).mean()"
   ]
  },
  {
   "cell_type": "code",
   "execution_count": 58,
   "metadata": {},
   "outputs": [],
   "source": [
    "### L2 norm and MSE are not the same "
   ]
  },
  {
   "cell_type": "code",
   "execution_count": 59,
   "metadata": {},
   "outputs": [
    {
     "data": {
      "text/plain": [
       "array([112.])"
      ]
     },
     "execution_count": 59,
     "metadata": {},
     "output_type": "execute_result"
    }
   ],
   "source": [
    "sum(wells_belong_to_contaminated_aquifer)"
   ]
  },
  {
   "cell_type": "code",
   "execution_count": 60,
   "metadata": {},
   "outputs": [
    {
     "data": {
      "text/plain": [
       "1.0468752907147274"
      ]
     },
     "execution_count": 60,
     "metadata": {},
     "output_type": "execute_result"
    }
   ],
   "source": [
    "mse"
   ]
  },
  {
   "cell_type": "code",
   "execution_count": 61,
   "metadata": {},
   "outputs": [
    {
     "data": {
      "text/plain": [
       "117.25003256004948"
      ]
     },
     "execution_count": 61,
     "metadata": {},
     "output_type": "execute_result"
    }
   ],
   "source": [
    "l2_norm_mine"
   ]
  },
  {
   "cell_type": "code",
   "execution_count": 62,
   "metadata": {},
   "outputs": [
    {
     "data": {
      "text/plain": [
       "117.25003256004949"
      ]
     },
     "execution_count": 62,
     "metadata": {},
     "output_type": "execute_result"
    }
   ],
   "source": [
    "l2_norm"
   ]
  },
  {
   "cell_type": "code",
   "execution_count": 63,
   "metadata": {},
   "outputs": [
    {
     "data": {
      "text/plain": [
       "array([ 0.46008163,  0.7975387 ,  0.26026008,  1.88827242,  1.52163064,\n",
       "        1.26146484,  0.63188033,  1.97809743, -0.9081624 ,  0.46267639,\n",
       "        0.24753372, -1.33875926,  0.36938818,  2.41891534,  1.04990687,\n",
       "        0.91519241, -1.61118699,  0.62273669,  2.00709974,  0.36028789,\n",
       "        1.90920033,  0.41625139, -1.44476291,  1.68112904,  0.02729485,\n",
       "        1.59150562,  1.13628567,  2.17232482,  3.18002417,  1.49928228,\n",
       "       -0.24713173,  0.74714763, -0.25633398,  0.26537873, -0.81118163,\n",
       "        1.35760158,  0.55225286,  0.72367128,  2.08177402,  0.0750306 ,\n",
       "        0.77422937, -0.059476  ,  0.02240786,  1.61550841,  1.12050303,\n",
       "        1.806217  , -0.09833252,  0.95741967, -1.45499595,  0.43554811,\n",
       "        0.81420258, -0.63841178,  1.30987631, -0.17973198,  0.703686  ,\n",
       "        0.78075963,  0.13244947, -1.31187012,  0.4681133 ,  0.59285363,\n",
       "        1.08064471,  1.33440609, -0.56298848, -0.28402959, -0.39507595,\n",
       "        1.79638063, -1.80369261,  0.69498979,  1.8721293 , -1.74537845,\n",
       "       -0.23386754,  0.36105157,  1.89838391,  0.33108794, -1.40451049,\n",
       "        0.63145369, -0.41684058,  0.40637257, -0.54028429,  1.85116015,\n",
       "       -0.16541967,  2.68591509,  1.63630808, -0.05049159, -0.38495361,\n",
       "        1.5191335 ,  0.95759682,  1.29458811,  1.6771171 ,  0.62820407,\n",
       "        1.61307087,  1.97344593,  1.13487832,  0.01589461,  0.64080589,\n",
       "        1.77685188,  0.52201226, -0.20906241,  1.26784313,  0.49924431,\n",
       "        1.10025269,  0.10742531,  1.1265418 ,  0.20217568,  0.82676414,\n",
       "        0.34042325, -0.87638462,  0.28697725, -0.57520887,  0.70954508,\n",
       "        0.1681585 , -1.5232075 ])"
      ]
     },
     "execution_count": 63,
     "metadata": {},
     "output_type": "execute_result"
    }
   ],
   "source": [
    "x"
   ]
  },
  {
   "cell_type": "code",
   "execution_count": null,
   "metadata": {},
   "outputs": [],
   "source": []
  }
 ],
 "metadata": {
  "kernelspec": {
   "display_name": "Python 3.9.12 ('base')",
   "language": "python",
   "name": "python3"
  },
  "language_info": {
   "codemirror_mode": {
    "name": "ipython",
    "version": 3
   },
   "file_extension": ".py",
   "mimetype": "text/x-python",
   "name": "python",
   "nbconvert_exporter": "python",
   "pygments_lexer": "ipython3",
   "version": "3.9.12"
  },
  "orig_nbformat": 4,
  "vscode": {
   "interpreter": {
    "hash": "03745caa7b572605b6426f8bfb4f7361a81951a233e36e69f5baa3f776cf0023"
   }
  }
 },
 "nbformat": 4,
 "nbformat_minor": 2
}
